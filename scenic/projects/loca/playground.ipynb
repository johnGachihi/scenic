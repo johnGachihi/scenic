{
 "cells": [
  {
   "cell_type": "code",
   "execution_count": 1,
   "id": "d9510756-042c-4edd-bb5d-12d3fe101847",
   "metadata": {
    "ExecuteTime": {
     "end_time": "2025-02-25T08:27:55.398711Z",
     "start_time": "2025-02-25T08:27:52.401745Z"
    }
   },
   "outputs": [
    {
     "name": "stderr",
     "output_type": "stream",
     "text": [
      "2025-02-25 12:08:17.602209: E tensorflow/compiler/xla/stream_executor/cuda/cuda_dnn.cc:9342] Unable to register cuDNN factory: Attempting to register factory for plugin cuDNN when one has already been registered\n",
      "2025-02-25 12:08:17.602282: E tensorflow/compiler/xla/stream_executor/cuda/cuda_fft.cc:609] Unable to register cuFFT factory: Attempting to register factory for plugin cuFFT when one has already been registered\n",
      "2025-02-25 12:08:17.602308: E tensorflow/compiler/xla/stream_executor/cuda/cuda_blas.cc:1518] Unable to register cuBLAS factory: Attempting to register factory for plugin cuBLAS when one has already been registered\n"
     ]
    }
   ],
   "source": [
    "import utils"
   ]
  },
  {
   "cell_type": "markdown",
   "id": "eb676603-6d19-4199-9d88-e17df0b4f1d3",
   "metadata": {},
   "source": [
    "## Setup config"
   ]
  },
  {
   "cell_type": "code",
   "execution_count": 2,
   "id": "df989d1a-48ea-4b9b-acb0-6397df145403",
   "metadata": {
    "ExecuteTime": {
     "end_time": "2025-02-21T07:36:42.928412Z",
     "start_time": "2025-02-21T07:36:42.900040Z"
    }
   },
   "outputs": [],
   "source": [
    "# from configs.loca_imnet1k_base16 import get_config\n",
    "from configs.loca_mmearth64_tiny16 import get_config\n",
    "\n",
    "config = get_config()"
   ]
  },
  {
   "cell_type": "markdown",
   "id": "49d916f7-0a98-4318-a96e-8c9415dfb088",
   "metadata": {},
   "source": [
    "## Setup Dataset"
   ]
  },
  {
   "cell_type": "code",
   "execution_count": 3,
   "id": "9e2fad0a-84dc-498f-ac6b-4ab1425668bf",
   "metadata": {
    "ExecuteTime": {
     "end_time": "2025-02-25T09:33:27.913632Z",
     "start_time": "2025-02-25T09:33:24.047273Z"
    }
   },
   "outputs": [
    {
     "name": "stderr",
     "output_type": "stream",
     "text": [
      "/home/admin/anaconda3/envs/flax/lib/python3.10/site-packages/tensorflow_addons/utils/tfa_eol_msg.py:23: UserWarning: \n",
      "\n",
      "TensorFlow Addons (TFA) has ended development and introduction of new features.\n",
      "TFA has entered a minimal maintenance and release mode until a planned end of life in May 2024.\n",
      "Please modify downstream libraries to take dependencies from other repositories in our TensorFlow community (e.g. Keras, Keras-CV, and Keras-NLP). \n",
      "\n",
      "For more information see: https://github.com/tensorflow/addons/issues/2807 \n",
      "\n",
      "  warnings.warn(\n",
      "2025-02-25 12:08:24.363639: W tensorflow/tsl/platform/cloud/google_auth_provider.cc:184] All attempts to get a Google authentication bearer token failed, returning an empty token. Retrieving token from files failed with \"NOT_FOUND: Could not locate the credentials file.\". Retrieving token from GCE failed with \"FAILED_PRECONDITION: Error executing an HTTP request: libcurl code 6 meaning 'Couldn't resolve host name', error details: Could not resolve host: metadata.google.internal\".\n",
      "WARNING:tensorflow:From /home/admin/anaconda3/envs/flax/lib/python3.10/site-packages/tensorflow_datasets/core/reader.py:101: CounterV2 (from tensorflow.python.data.experimental.ops.counter) is deprecated and will be removed in a future version.\n",
      "Instructions for updating:\n",
      "Use `tf.data.Dataset.counter(...)` instead.\n",
      "WARNING:tensorflow:From /home/admin/john/scenic/scenic/dataset_lib/dataset_utils.py:671: ignore_errors (from tensorflow.python.data.experimental.ops.error_ops) is deprecated and will be removed in a future version.\n",
      "Instructions for updating:\n",
      "Use `tf.data.Dataset.ignore_errors` instead.\n"
     ]
    }
   ],
   "source": [
    "from scenic.train_lib import train_utils\n",
    "import jax.numpy as jnp\n",
    "import loca_dataset\n",
    "import ops\n",
    "import jax\n",
    "\n",
    "rng = jax.random.key(77)\n",
    "data_rng, rng = jax.random.split(rng)\n",
    "\n",
    "dataset = train_utils.get_dataset(config, data_rng)"
   ]
  },
  {
   "cell_type": "markdown",
   "id": "ca9fdcec-25d1-44d5-b684-30c3b00ef8b1",
   "metadata": {},
   "source": [
    "### Dataset stats"
   ]
  },
  {
   "cell_type": "code",
   "execution_count": 4,
   "id": "80046b61-56c3-41f3-b2f2-7c13444fc5d7",
   "metadata": {},
   "outputs": [],
   "source": [
    "def remove_batch_dim0(batch, debug=False):\n",
    "    # Remove dim 0. (Don't know where extra dim is added at 0)\n",
    "    for k, v in batch.items():\n",
    "        batch[k] = v.squeeze(0)\n",
    "        if debug:\n",
    "            print(f\"batch[{k}]: {batch[k].shape}\")\n",
    "\n",
    "    return batch"
   ]
  },
  {
   "cell_type": "code",
   "execution_count": 5,
   "id": "ec6f5708-6fef-4a9c-a037-1bc0847161d5",
   "metadata": {},
   "outputs": [
    {
     "name": "stdout",
     "output_type": "stream",
     "text": [
      "mean [-0.384689   -0.36719662 -0.38451898 -0.38646322 -0.40820163 -0.41507307\n",
      " -0.42880678 -0.44457552 -0.4024879  -0.3478491  -0.3848306  -0.36114895]\n",
      "min [-0.63840896 -0.6764724  -0.8058472  -0.82409257 -0.953627   -1.2776003\n",
      " -1.4149015  -1.5480922  -1.4741229  -1.1811248  -1.5112737  -1.2302656 ]\n",
      "max [0.74517274 1.3137683  1.3508843  1.1202632  0.92975146 0.91388685\n",
      " 0.9394878  0.88114667 1.1352582  0.7196159  1.2607524  1.511839  ]\n",
      "std [0.19177295 0.25942543 0.34245265 0.45129988 0.4192678  0.4607772\n",
      " 0.51598406 0.5761914  0.5513025  0.49190357 0.6198909  0.6278856 ]\n"
     ]
    }
   ],
   "source": [
    "batch = next(dataset.train_iter)\n",
    "batch = remove_batch_dim0(batch)\n",
    "batch = utils.prepare_input(batch, config)\n",
    "\n",
    "print(\"mean\", batch['reference'].reshape(-1, 12).mean(axis=0))\n",
    "print(\"min\", batch['reference'].reshape(-1, 12).min(axis=0))\n",
    "print(\"max\", batch['reference'].reshape(-1, 12).max(axis=0))\n",
    "print(\"std\", batch['reference'].reshape(-1, 12).std(axis=0))"
   ]
  },
  {
   "cell_type": "code",
   "execution_count": 6,
   "id": "477389e2-17e3-4e8c-bb3e-7fd1ab40ab47",
   "metadata": {},
   "outputs": [
    {
     "name": "stdout",
     "output_type": "stream",
     "text": [
      "mean [-0.3965133  -0.3812527  -0.39972332 -0.4027961  -0.42172006 -0.41990796\n",
      " -0.4313045  -0.44355854 -0.40088883 -0.34231153 -0.38189068 -0.36672345]\n",
      "min [-0.6383587  -0.67814636 -0.8061555  -0.8244459  -0.9512701  -1.2592582\n",
      " -1.3815607  -1.5141506  -1.4435859  -1.1954477  -1.4951563  -1.2260286 ]\n",
      "max [0.31914338 0.45808592 0.43012327 0.6637146  0.50387216 0.5614166\n",
      " 0.7990106  1.0177956  1.0567551  0.8226458  1.0173651  1.2583216 ]\n",
      "std [0.17198548 0.23017651 0.31855857 0.4335768  0.4047686  0.47217876\n",
      " 0.53710216 0.60968095 0.5724857  0.52488923 0.61708367 0.6129027 ]\n"
     ]
    }
   ],
   "source": [
    "print(\"mean\", batch['query0'].reshape(-1, 12).mean(axis=0))\n",
    "print(\"min\", batch['query0'].reshape(-1, 12).min(axis=0))\n",
    "print(\"max\", batch['query0'].reshape(-1, 12).max(axis=0))\n",
    "print(\"std\", batch['query0'].reshape(-1, 12).std(axis=0))"
   ]
  },
  {
   "cell_type": "code",
   "execution_count": 7,
   "id": "3ba12ad3-4190-4d42-a4ac-fed9386c3b54",
   "metadata": {},
   "outputs": [
    {
     "name": "stdout",
     "output_type": "stream",
     "text": [
      "mean [-0.39854324 -0.38631043 -0.40487814 -0.40887955 -0.42744276 -0.40861446\n",
      " -0.41266567 -0.42289254 -0.38646078 -0.32632464 -0.40086874 -0.38147023]\n",
      "min [-0.63867736 -0.67901367 -0.8075446  -0.82531416 -0.95197904 -1.2733039\n",
      " -1.4075925  -1.5424118  -1.4512658  -1.1974965  -1.5096635  -1.2277827 ]\n",
      "max [0.33809814 0.6092059  0.6045578  0.6690688  0.50480586 0.57076234\n",
      " 0.97835255 1.1948534  1.2287068  0.9075468  0.9093854  1.1373352 ]\n",
      "std [0.18414555 0.24108335 0.32548058 0.43616778 0.40706676 0.48876923\n",
      " 0.56531876 0.6412343  0.6029333  0.5356192  0.6244436  0.6183576 ]\n"
     ]
    }
   ],
   "source": [
    "print(\"mean\", batch['queries'].reshape(-1, 12).mean(axis=0))\n",
    "print(\"min\", batch['queries'].reshape(-1, 12).min(axis=0))\n",
    "print(\"max\", batch['queries'].reshape(-1, 12).max(axis=0))\n",
    "print(\"std\", batch['queries'].reshape(-1, 12).std(axis=0))"
   ]
  },
  {
   "cell_type": "markdown",
   "id": "97eaceb7-3531-4a8c-a902-4d36eccd61eb",
   "metadata": {},
   "source": [
    "## Visualise data"
   ]
  },
  {
   "cell_type": "code",
   "execution_count": 9,
   "id": "2f7cf56c-7759-4958-ae6a-a758ea06d3fc",
   "metadata": {},
   "outputs": [
    {
     "ename": "ValueError",
     "evalue": "Incompatible shapes for broadcasting: shapes=[(96, 96, 12), (3,)]",
     "output_type": "error",
     "traceback": [
      "\u001b[0;31m---------------------------------------------------------------------------\u001b[0m",
      "\u001b[0;31mTypeError\u001b[0m                                 Traceback (most recent call last)",
      "File \u001b[0;32m~/anaconda3/envs/flax/lib/python3.10/site-packages/jax/_src/lax/lax.py:174\u001b[0m, in \u001b[0;36m_broadcast_shapes_uncached\u001b[0;34m(*shapes)\u001b[0m\n\u001b[1;32m    173\u001b[0m \u001b[38;5;28;01mtry\u001b[39;00m:\n\u001b[0;32m--> 174\u001b[0m   \u001b[38;5;28;01mreturn\u001b[39;00m \u001b[43m_try_broadcast_shapes\u001b[49m\u001b[43m(\u001b[49m\u001b[38;5;241;43m*\u001b[39;49m\u001b[43mrank_promoted_shapes\u001b[49m\u001b[43m,\u001b[49m\u001b[43m \u001b[49m\u001b[43mname\u001b[49m\u001b[38;5;241;43m=\u001b[39;49m\u001b[38;5;124;43m'\u001b[39;49m\u001b[38;5;124;43mbroadcast_shapes\u001b[39;49m\u001b[38;5;124;43m'\u001b[39;49m\u001b[43m)\u001b[49m\n\u001b[1;32m    175\u001b[0m \u001b[38;5;28;01mexcept\u001b[39;00m \u001b[38;5;167;01mTypeError\u001b[39;00m \u001b[38;5;28;01mas\u001b[39;00m err:\n\u001b[1;32m    176\u001b[0m   \u001b[38;5;66;03m# Raise ValueError here for backward compatibility.\u001b[39;00m\n",
      "File \u001b[0;32m~/anaconda3/envs/flax/lib/python3.10/site-packages/jax/_src/lax/lax.py:128\u001b[0m, in \u001b[0;36m_try_broadcast_shapes\u001b[0;34m(name, *shapes)\u001b[0m\n\u001b[1;32m    127\u001b[0m     \u001b[38;5;28;01melse\u001b[39;00m:\n\u001b[0;32m--> 128\u001b[0m       \u001b[38;5;28;01mraise\u001b[39;00m \u001b[38;5;167;01mTypeError\u001b[39;00m(\u001b[38;5;124mf\u001b[39m\u001b[38;5;124m'\u001b[39m\u001b[38;5;132;01m{\u001b[39;00mname\u001b[38;5;132;01m}\u001b[39;00m\u001b[38;5;124m got incompatible shapes for broadcasting: \u001b[39m\u001b[38;5;124m'\u001b[39m\n\u001b[1;32m    129\u001b[0m                       \u001b[38;5;124mf\u001b[39m\u001b[38;5;124m'\u001b[39m\u001b[38;5;132;01m{\u001b[39;00m\u001b[38;5;124m\"\u001b[39m\u001b[38;5;124m, \u001b[39m\u001b[38;5;124m\"\u001b[39m\u001b[38;5;241m.\u001b[39mjoin(\u001b[38;5;28mmap\u001b[39m(\u001b[38;5;28mstr\u001b[39m,\u001b[38;5;250m \u001b[39m\u001b[38;5;28mmap\u001b[39m(\u001b[38;5;28mtuple\u001b[39m,\u001b[38;5;250m \u001b[39mshapes)))\u001b[38;5;132;01m}\u001b[39;00m\u001b[38;5;124m.\u001b[39m\u001b[38;5;124m'\u001b[39m)\n\u001b[1;32m    130\u001b[0m \u001b[38;5;28;01mreturn\u001b[39;00m \u001b[38;5;28mtuple\u001b[39m(result_shape)\n",
      "\u001b[0;31mTypeError\u001b[0m: broadcast_shapes got incompatible shapes for broadcasting: (96, 96, 12), (1, 1, 3).",
      "\nThe above exception was the direct cause of the following exception:\n",
      "\u001b[0;31mValueError\u001b[0m                                Traceback (most recent call last)",
      "    \u001b[0;31m[... skipping hidden 1 frame]\u001b[0m\n",
      "File \u001b[0;32m~/anaconda3/envs/flax/lib/python3.10/site-packages/jax/_src/util.py:302\u001b[0m, in \u001b[0;36mcache.<locals>.wrap.<locals>.wrapper\u001b[0;34m(*args, **kwargs)\u001b[0m\n\u001b[1;32m    301\u001b[0m   \u001b[38;5;28;01mreturn\u001b[39;00m f(\u001b[38;5;241m*\u001b[39margs, \u001b[38;5;241m*\u001b[39m\u001b[38;5;241m*\u001b[39mkwargs)\n\u001b[0;32m--> 302\u001b[0m \u001b[38;5;28;01mreturn\u001b[39;00m \u001b[43mcached\u001b[49m\u001b[43m(\u001b[49m\u001b[43mconfig\u001b[49m\u001b[38;5;241;43m.\u001b[39;49m\u001b[43mtrace_context\u001b[49m\u001b[43m(\u001b[49m\u001b[43m)\u001b[49m\u001b[43m \u001b[49m\u001b[38;5;28;43;01mif\u001b[39;49;00m\u001b[43m \u001b[49m\u001b[43mtrace_context_in_key\u001b[49m\u001b[43m \u001b[49m\u001b[38;5;28;43;01melse\u001b[39;49;00m\u001b[43m \u001b[49m\u001b[43m_ignore\u001b[49m\u001b[43m(\u001b[49m\u001b[43m)\u001b[49m\u001b[43m,\u001b[49m\n\u001b[1;32m    303\u001b[0m \u001b[43m              \u001b[49m\u001b[38;5;241;43m*\u001b[39;49m\u001b[43margs\u001b[49m\u001b[43m,\u001b[49m\u001b[43m \u001b[49m\u001b[38;5;241;43m*\u001b[39;49m\u001b[38;5;241;43m*\u001b[39;49m\u001b[43mkwargs\u001b[49m\u001b[43m)\u001b[49m\n",
      "File \u001b[0;32m~/anaconda3/envs/flax/lib/python3.10/site-packages/jax/_src/util.py:296\u001b[0m, in \u001b[0;36mcache.<locals>.wrap.<locals>.cached\u001b[0;34m(_, *args, **kwargs)\u001b[0m\n\u001b[1;32m    294\u001b[0m \u001b[38;5;129m@functools\u001b[39m\u001b[38;5;241m.\u001b[39mlru_cache(max_size)\n\u001b[1;32m    295\u001b[0m \u001b[38;5;28;01mdef\u001b[39;00m \u001b[38;5;21mcached\u001b[39m(_, \u001b[38;5;241m*\u001b[39margs, \u001b[38;5;241m*\u001b[39m\u001b[38;5;241m*\u001b[39mkwargs):\n\u001b[0;32m--> 296\u001b[0m   \u001b[38;5;28;01mreturn\u001b[39;00m \u001b[43mf\u001b[49m\u001b[43m(\u001b[49m\u001b[38;5;241;43m*\u001b[39;49m\u001b[43margs\u001b[49m\u001b[43m,\u001b[49m\u001b[43m \u001b[49m\u001b[38;5;241;43m*\u001b[39;49m\u001b[38;5;241;43m*\u001b[39;49m\u001b[43mkwargs\u001b[49m\u001b[43m)\u001b[49m\n",
      "File \u001b[0;32m~/anaconda3/envs/flax/lib/python3.10/site-packages/jax/_src/lax/lax.py:158\u001b[0m, in \u001b[0;36m_broadcast_shapes_cached\u001b[0;34m(*shapes)\u001b[0m\n\u001b[1;32m    156\u001b[0m \u001b[38;5;129m@cache\u001b[39m()\n\u001b[1;32m    157\u001b[0m \u001b[38;5;28;01mdef\u001b[39;00m \u001b[38;5;21m_broadcast_shapes_cached\u001b[39m(\u001b[38;5;241m*\u001b[39mshapes: \u001b[38;5;28mtuple\u001b[39m[\u001b[38;5;28mint\u001b[39m, \u001b[38;5;241m.\u001b[39m\u001b[38;5;241m.\u001b[39m\u001b[38;5;241m.\u001b[39m]) \u001b[38;5;241m-\u001b[39m\u001b[38;5;241m>\u001b[39m \u001b[38;5;28mtuple\u001b[39m[\u001b[38;5;28mint\u001b[39m, \u001b[38;5;241m.\u001b[39m\u001b[38;5;241m.\u001b[39m\u001b[38;5;241m.\u001b[39m]:\n\u001b[0;32m--> 158\u001b[0m   \u001b[38;5;28;01mreturn\u001b[39;00m \u001b[43m_broadcast_shapes_uncached\u001b[49m\u001b[43m(\u001b[49m\u001b[38;5;241;43m*\u001b[39;49m\u001b[43mshapes\u001b[49m\u001b[43m)\u001b[49m\n",
      "File \u001b[0;32m~/anaconda3/envs/flax/lib/python3.10/site-packages/jax/_src/lax/lax.py:177\u001b[0m, in \u001b[0;36m_broadcast_shapes_uncached\u001b[0;34m(*shapes)\u001b[0m\n\u001b[1;32m    175\u001b[0m \u001b[38;5;28;01mexcept\u001b[39;00m \u001b[38;5;167;01mTypeError\u001b[39;00m \u001b[38;5;28;01mas\u001b[39;00m err:\n\u001b[1;32m    176\u001b[0m   \u001b[38;5;66;03m# Raise ValueError here for backward compatibility.\u001b[39;00m\n\u001b[0;32m--> 177\u001b[0m   \u001b[38;5;28;01mraise\u001b[39;00m \u001b[38;5;167;01mValueError\u001b[39;00m(\u001b[38;5;124mf\u001b[39m\u001b[38;5;124m\"\u001b[39m\u001b[38;5;124mIncompatible shapes for broadcasting: shapes=\u001b[39m\u001b[38;5;132;01m{\u001b[39;00m\u001b[38;5;28mlist\u001b[39m(shapes)\u001b[38;5;132;01m}\u001b[39;00m\u001b[38;5;124m\"\u001b[39m) \u001b[38;5;28;01mfrom\u001b[39;00m \u001b[38;5;21;01merr\u001b[39;00m\n",
      "\u001b[0;31mValueError\u001b[0m: Incompatible shapes for broadcasting: shapes=[(96, 96, 12), (3,)]",
      "\nDuring handling of the above exception, another exception occurred:\n",
      "\u001b[0;31mTypeError\u001b[0m                                 Traceback (most recent call last)",
      "    \u001b[0;31m[... skipping hidden 1 frame]\u001b[0m\n",
      "File \u001b[0;32m~/anaconda3/envs/flax/lib/python3.10/site-packages/jax/_src/lax/lax.py:128\u001b[0m, in \u001b[0;36m_try_broadcast_shapes\u001b[0;34m(name, *shapes)\u001b[0m\n\u001b[1;32m    127\u001b[0m     \u001b[38;5;28;01melse\u001b[39;00m:\n\u001b[0;32m--> 128\u001b[0m       \u001b[38;5;28;01mraise\u001b[39;00m \u001b[38;5;167;01mTypeError\u001b[39;00m(\u001b[38;5;124mf\u001b[39m\u001b[38;5;124m'\u001b[39m\u001b[38;5;132;01m{\u001b[39;00mname\u001b[38;5;132;01m}\u001b[39;00m\u001b[38;5;124m got incompatible shapes for broadcasting: \u001b[39m\u001b[38;5;124m'\u001b[39m\n\u001b[1;32m    129\u001b[0m                       \u001b[38;5;124mf\u001b[39m\u001b[38;5;124m'\u001b[39m\u001b[38;5;132;01m{\u001b[39;00m\u001b[38;5;124m\"\u001b[39m\u001b[38;5;124m, \u001b[39m\u001b[38;5;124m\"\u001b[39m\u001b[38;5;241m.\u001b[39mjoin(\u001b[38;5;28mmap\u001b[39m(\u001b[38;5;28mstr\u001b[39m,\u001b[38;5;250m \u001b[39m\u001b[38;5;28mmap\u001b[39m(\u001b[38;5;28mtuple\u001b[39m,\u001b[38;5;250m \u001b[39mshapes)))\u001b[38;5;132;01m}\u001b[39;00m\u001b[38;5;124m.\u001b[39m\u001b[38;5;124m'\u001b[39m)\n\u001b[1;32m    130\u001b[0m \u001b[38;5;28;01mreturn\u001b[39;00m \u001b[38;5;28mtuple\u001b[39m(result_shape)\n",
      "\u001b[0;31mTypeError\u001b[0m: broadcast_shapes got incompatible shapes for broadcasting: (96, 96, 12), (1, 1, 3).",
      "\nThe above exception was the direct cause of the following exception:\n",
      "\u001b[0;31mValueError\u001b[0m                                Traceback (most recent call last)",
      "Cell \u001b[0;32mIn[9], line 17\u001b[0m\n\u001b[1;32m     15\u001b[0m gs00 \u001b[38;5;241m=\u001b[39m gridspec\u001b[38;5;241m.\u001b[39mGridSpecFromSubplotSpec(\u001b[38;5;241m2\u001b[39m, \u001b[38;5;241m2\u001b[39m, subplot_spec\u001b[38;5;241m=\u001b[39mgs0[\u001b[38;5;241m0\u001b[39m])\n\u001b[1;32m     16\u001b[0m ax1 \u001b[38;5;241m=\u001b[39m fig\u001b[38;5;241m.\u001b[39madd_subplot(gs00[:\u001b[38;5;241m2\u001b[39m, :\u001b[38;5;241m2\u001b[39m])\n\u001b[0;32m---> 17\u001b[0m ref_img \u001b[38;5;241m=\u001b[39m (\u001b[43mviz_batch\u001b[49m\u001b[43m[\u001b[49m\u001b[38;5;124;43m'\u001b[39;49m\u001b[38;5;124;43mreference\u001b[39;49m\u001b[38;5;124;43m'\u001b[39;49m\u001b[43m]\u001b[49m\u001b[43m[\u001b[49m\u001b[38;5;241;43m0\u001b[39;49m\u001b[43m]\u001b[49m\u001b[43m \u001b[49m\u001b[38;5;241;43m*\u001b[39;49m\u001b[43m \u001b[49m\u001b[43mjnp\u001b[49m\u001b[38;5;241;43m.\u001b[39;49m\u001b[43marray\u001b[49m\u001b[43m(\u001b[49m\u001b[43mSTDDEV_RGB\u001b[49m\u001b[43m)\u001b[49m \u001b[38;5;241m+\u001b[39m jnp\u001b[38;5;241m.\u001b[39marray(MEAN_RGB))\n\u001b[1;32m     18\u001b[0m ax1\u001b[38;5;241m.\u001b[39mimshow(ref_img)\n\u001b[1;32m     20\u001b[0m \u001b[38;5;66;03m# Plot queries\u001b[39;00m\n",
      "File \u001b[0;32m~/anaconda3/envs/flax/lib/python3.10/site-packages/jax/_src/numpy/array_methods.py:578\u001b[0m, in \u001b[0;36m_defer_to_unrecognized_arg.<locals>.deferring_binary_op\u001b[0;34m(self, other)\u001b[0m\n\u001b[1;32m    576\u001b[0m args \u001b[38;5;241m=\u001b[39m (other, \u001b[38;5;28mself\u001b[39m) \u001b[38;5;28;01mif\u001b[39;00m swap \u001b[38;5;28;01melse\u001b[39;00m (\u001b[38;5;28mself\u001b[39m, other)\n\u001b[1;32m    577\u001b[0m \u001b[38;5;28;01mif\u001b[39;00m \u001b[38;5;28misinstance\u001b[39m(other, _accepted_binop_types):\n\u001b[0;32m--> 578\u001b[0m   \u001b[38;5;28;01mreturn\u001b[39;00m \u001b[43mbinary_op\u001b[49m\u001b[43m(\u001b[49m\u001b[38;5;241;43m*\u001b[39;49m\u001b[43margs\u001b[49m\u001b[43m)\u001b[49m\n\u001b[1;32m    579\u001b[0m \u001b[38;5;66;03m# Note: don't use isinstance here, because we don't want to raise for\u001b[39;00m\n\u001b[1;32m    580\u001b[0m \u001b[38;5;66;03m# subclasses, e.g. NamedTuple objects that may override operators.\u001b[39;00m\n\u001b[1;32m    581\u001b[0m \u001b[38;5;28;01mif\u001b[39;00m \u001b[38;5;28mtype\u001b[39m(other) \u001b[38;5;129;01min\u001b[39;00m _rejected_binop_types:\n",
      "File \u001b[0;32m~/anaconda3/envs/flax/lib/python3.10/site-packages/jax/_src/numpy/ufunc_api.py:179\u001b[0m, in \u001b[0;36mufunc.__call__\u001b[0;34m(self, out, where, *args)\u001b[0m\n\u001b[1;32m    177\u001b[0m   \u001b[38;5;28;01mraise\u001b[39;00m \u001b[38;5;167;01mNotImplementedError\u001b[39;00m(\u001b[38;5;124mf\u001b[39m\u001b[38;5;124m\"\u001b[39m\u001b[38;5;124mwhere argument of \u001b[39m\u001b[38;5;132;01m{\u001b[39;00m\u001b[38;5;28mself\u001b[39m\u001b[38;5;132;01m}\u001b[39;00m\u001b[38;5;124m\"\u001b[39m)\n\u001b[1;32m    178\u001b[0m call \u001b[38;5;241m=\u001b[39m \u001b[38;5;28mself\u001b[39m\u001b[38;5;241m.\u001b[39m__static_props[\u001b[38;5;124m'\u001b[39m\u001b[38;5;124mcall\u001b[39m\u001b[38;5;124m'\u001b[39m] \u001b[38;5;129;01mor\u001b[39;00m \u001b[38;5;28mself\u001b[39m\u001b[38;5;241m.\u001b[39m_call_vectorized\n\u001b[0;32m--> 179\u001b[0m \u001b[38;5;28;01mreturn\u001b[39;00m \u001b[43mcall\u001b[49m\u001b[43m(\u001b[49m\u001b[38;5;241;43m*\u001b[39;49m\u001b[43margs\u001b[49m\u001b[43m)\u001b[49m\n",
      "    \u001b[0;31m[... skipping hidden 13 frame]\u001b[0m\n",
      "File \u001b[0;32m~/anaconda3/envs/flax/lib/python3.10/site-packages/jax/_src/numpy/ufuncs.py:1255\u001b[0m, in \u001b[0;36mmultiply\u001b[0;34m(x, y)\u001b[0m\n\u001b[1;32m   1228\u001b[0m \u001b[38;5;129m@binary_ufunc\u001b[39m(identity\u001b[38;5;241m=\u001b[39m\u001b[38;5;241m1\u001b[39m, reduce\u001b[38;5;241m=\u001b[39mreductions\u001b[38;5;241m.\u001b[39mprod, accumulate\u001b[38;5;241m=\u001b[39mreductions\u001b[38;5;241m.\u001b[39mcumprod, at\u001b[38;5;241m=\u001b[39m_multiply_at)\n\u001b[1;32m   1229\u001b[0m \u001b[38;5;28;01mdef\u001b[39;00m \u001b[38;5;21mmultiply\u001b[39m(x: ArrayLike, y: ArrayLike, \u001b[38;5;241m/\u001b[39m) \u001b[38;5;241m-\u001b[39m\u001b[38;5;241m>\u001b[39m Array:\n\u001b[1;32m   1230\u001b[0m \u001b[38;5;250m  \u001b[39m\u001b[38;5;124;03m\"\"\"Multiply two arrays element-wise.\u001b[39;00m\n\u001b[1;32m   1231\u001b[0m \n\u001b[1;32m   1232\u001b[0m \u001b[38;5;124;03m  JAX implementation of :obj:`numpy.multiply`. This is a universal function,\u001b[39;00m\n\u001b[0;32m   (...)\u001b[0m\n\u001b[1;32m   1253\u001b[0m \u001b[38;5;124;03m    Array([ 0, 10, 20, 30], dtype=int32)\u001b[39;00m\n\u001b[1;32m   1254\u001b[0m \u001b[38;5;124;03m  \"\"\"\u001b[39;00m\n\u001b[0;32m-> 1255\u001b[0m   x, y \u001b[38;5;241m=\u001b[39m \u001b[43mpromote_args\u001b[49m\u001b[43m(\u001b[49m\u001b[38;5;124;43m\"\u001b[39;49m\u001b[38;5;124;43mmultiply\u001b[39;49m\u001b[38;5;124;43m\"\u001b[39;49m\u001b[43m,\u001b[49m\u001b[43m \u001b[49m\u001b[43mx\u001b[49m\u001b[43m,\u001b[49m\u001b[43m \u001b[49m\u001b[43my\u001b[49m\u001b[43m)\u001b[49m\n\u001b[1;32m   1256\u001b[0m   \u001b[38;5;28;01mreturn\u001b[39;00m lax\u001b[38;5;241m.\u001b[39mmul(x, y) \u001b[38;5;28;01mif\u001b[39;00m x\u001b[38;5;241m.\u001b[39mdtype \u001b[38;5;241m!=\u001b[39m \u001b[38;5;28mbool\u001b[39m \u001b[38;5;28;01melse\u001b[39;00m lax\u001b[38;5;241m.\u001b[39mbitwise_and(x, y)\n",
      "File \u001b[0;32m~/anaconda3/envs/flax/lib/python3.10/site-packages/jax/_src/numpy/util.py:193\u001b[0m, in \u001b[0;36mpromote_args\u001b[0;34m(fun_name, *args)\u001b[0m\n\u001b[1;32m    191\u001b[0m _check_no_float0s(fun_name, \u001b[38;5;241m*\u001b[39margs)\n\u001b[1;32m    192\u001b[0m check_for_prngkeys(fun_name, \u001b[38;5;241m*\u001b[39margs)\n\u001b[0;32m--> 193\u001b[0m \u001b[38;5;28;01mreturn\u001b[39;00m \u001b[43mpromote_shapes\u001b[49m\u001b[43m(\u001b[49m\u001b[43mfun_name\u001b[49m\u001b[43m,\u001b[49m\u001b[43m \u001b[49m\u001b[38;5;241;43m*\u001b[39;49m\u001b[43mpromote_dtypes\u001b[49m\u001b[43m(\u001b[49m\u001b[38;5;241;43m*\u001b[39;49m\u001b[43margs\u001b[49m\u001b[43m)\u001b[49m\u001b[43m)\u001b[49m\n",
      "File \u001b[0;32m~/anaconda3/envs/flax/lib/python3.10/site-packages/jax/_src/numpy/util.py:58\u001b[0m, in \u001b[0;36mpromote_shapes\u001b[0;34m(fun_name, *args)\u001b[0m\n\u001b[1;32m     56\u001b[0m \u001b[38;5;28;01mif\u001b[39;00m config\u001b[38;5;241m.\u001b[39mnumpy_rank_promotion\u001b[38;5;241m.\u001b[39mvalue \u001b[38;5;241m!=\u001b[39m \u001b[38;5;124m\"\u001b[39m\u001b[38;5;124mallow\u001b[39m\u001b[38;5;124m\"\u001b[39m:\n\u001b[1;32m     57\u001b[0m   _rank_promotion_warning_or_error(fun_name, shapes)\n\u001b[0;32m---> 58\u001b[0m result_rank \u001b[38;5;241m=\u001b[39m \u001b[38;5;28mlen\u001b[39m(\u001b[43mlax\u001b[49m\u001b[38;5;241;43m.\u001b[39;49m\u001b[43mbroadcast_shapes\u001b[49m\u001b[43m(\u001b[49m\u001b[38;5;241;43m*\u001b[39;49m\u001b[43mshapes\u001b[49m\u001b[43m)\u001b[49m)\n\u001b[1;32m     59\u001b[0m \u001b[38;5;28;01mreturn\u001b[39;00m [lax\u001b[38;5;241m.\u001b[39mbroadcast_to_rank(arg, result_rank) \u001b[38;5;28;01mfor\u001b[39;00m arg \u001b[38;5;129;01min\u001b[39;00m args]\n",
      "    \u001b[0;31m[... skipping hidden 1 frame]\u001b[0m\n",
      "File \u001b[0;32m~/anaconda3/envs/flax/lib/python3.10/site-packages/jax/_src/lax/lax.py:177\u001b[0m, in \u001b[0;36m_broadcast_shapes_uncached\u001b[0;34m(*shapes)\u001b[0m\n\u001b[1;32m    174\u001b[0m   \u001b[38;5;28;01mreturn\u001b[39;00m _try_broadcast_shapes(\u001b[38;5;241m*\u001b[39mrank_promoted_shapes, name\u001b[38;5;241m=\u001b[39m\u001b[38;5;124m'\u001b[39m\u001b[38;5;124mbroadcast_shapes\u001b[39m\u001b[38;5;124m'\u001b[39m)\n\u001b[1;32m    175\u001b[0m \u001b[38;5;28;01mexcept\u001b[39;00m \u001b[38;5;167;01mTypeError\u001b[39;00m \u001b[38;5;28;01mas\u001b[39;00m err:\n\u001b[1;32m    176\u001b[0m   \u001b[38;5;66;03m# Raise ValueError here for backward compatibility.\u001b[39;00m\n\u001b[0;32m--> 177\u001b[0m   \u001b[38;5;28;01mraise\u001b[39;00m \u001b[38;5;167;01mValueError\u001b[39;00m(\u001b[38;5;124mf\u001b[39m\u001b[38;5;124m\"\u001b[39m\u001b[38;5;124mIncompatible shapes for broadcasting: shapes=\u001b[39m\u001b[38;5;132;01m{\u001b[39;00m\u001b[38;5;28mlist\u001b[39m(shapes)\u001b[38;5;132;01m}\u001b[39;00m\u001b[38;5;124m\"\u001b[39m) \u001b[38;5;28;01mfrom\u001b[39;00m \u001b[38;5;21;01merr\u001b[39;00m\n",
      "\u001b[0;31mValueError\u001b[0m: Incompatible shapes for broadcasting: shapes=[(96, 96, 12), (3,)]"
     ]
    },
    {
     "data": {
      "image/png": "[encoded data removed]",
      "text/plain": [
       "<Figure size 1700x900 with 1 Axes>"
      ]
     },
     "metadata": {},
     "output_type": "display_data"
    }
   ],
   "source": [
    "import matplotlib.pyplot as plt\n",
    "import matplotlib.patches as patches\n",
    "import matplotlib.gridspec as gridspec\n",
    "from configs.loca_imnet1k_base16 import MEAN_RGB, STDDEV_RGB\n",
    "\n",
    "viz_batch = next(dataset.train_iter)\n",
    "viz_batch = remove_batch_dim0(viz_batch)\n",
    "viz_batch = utils.prepare_input(viz_batch, config)\n",
    "\n",
    "fig = plt.figure(figsize=(17, 9))\n",
    "\n",
    "gs0 = gridspec.GridSpec(2, 6, figure=fig)\n",
    "\n",
    "# Plot reference\n",
    "gs00 = gridspec.GridSpecFromSubplotSpec(2, 2, subplot_spec=gs0[0])\n",
    "ax1 = fig.add_subplot(gs00[:2, :2])\n",
    "ref_img = (viz_batch['reference'][0] * jnp.array(STDDEV_RGB) + jnp.array(MEAN_RGB))\n",
    "ax1.imshow(ref_img)\n",
    "\n",
    "# Plot queries\n",
    "n_q_foc = config.dataset_configs.number_of_focal_queries\n",
    "queries = viz_batch['queries'].reshape(n_q_foc, config.batch_size, 96, 96, 3)\n",
    "gs01 = gridspec.GridSpecFromSubplotSpec(2, 4, subplot_spec=gs0[1:])\n",
    "for i, query in enumerate(queries[:4]):\n",
    "    ax = fig.add_subplot(gs01[0, i])\n",
    "    ax.imshow(query[0] * jnp.array(STDDEV_RGB) + jnp.array(MEAN_RGB))\n",
    "    ax.set_title(f'Query {i + 1} Crop')"
   ]
  },
  {
   "cell_type": "markdown",
   "id": "65f5e816-53dd-4cc4-afa0-c75c8110c017",
   "metadata": {},
   "source": [
    "## Load Model"
   ]
  },
  {
   "cell_type": "code",
   "execution_count": 8,
   "id": "initial_id",
   "metadata": {
    "ExecuteTime": {
     "end_time": "2025-02-20T16:19:21.470341Z",
     "start_time": "2025-02-20T16:19:21.468268Z"
    }
   },
   "outputs": [],
   "source": [
    "import flax\n",
    "from flax.training import checkpoints\n",
    "import optax\n",
    "from scenic.train_lib import lr_schedules\n",
    "import vit\n",
    "import copy\n",
    "\n",
    "model = vit.ViTLOCAModel(config, dataset.meta_data)\n",
    "\n",
    "rng, init_rng = jax.random.split(rng)\n",
    "(params, _, num_trainable_params, gflops) = train_utils.initialize_model(\n",
    "    model_def=model.flax_model,\n",
    "    input_spec=[\n",
    "        (dataset.meta_data['input_shape'], dataset.meta_data.get('input_dtype', jnp.float32))],\n",
    "    config=config, rngs=init_rng\n",
    ")\n",
    "\n",
    "# Only one model function but two sets of parameters.\n",
    "ema_params = copy.deepcopy(params)\n",
    "\n",
    "learning_rate_fn = lr_schedules.get_learning_rate_fn(config)\n",
    "momentum_parameter_scheduler = lr_schedules.compound_lr_scheduler(\n",
    "  config.momentum_rate)\n",
    "\n",
    "weight_decay_mask = jax.tree_util.tree_map(lambda x: x.ndim != 1, params)\n",
    "tx = optax.inject_hyperparams(optax.adamw)(\n",
    "  learning_rate=learning_rate_fn, weight_decay=config.weight_decay,\n",
    "  mask=weight_decay_mask)\n",
    "\n",
    "opt_state = jax.jit(tx.init, backend='cpu')(params)\n",
    "\n",
    "chrono = train_utils.Chrono()\n",
    "\n",
    "train_state = utils.TrainState(\n",
    "  global_step=0, opt_state=opt_state, tx=tx, params=params,\n",
    "  ema_params=ema_params, rng=rng, metadata={'chrono': chrono.save()})\n",
    "\n",
    "# checkpoint_path = \"/home/admin/john/scenic/loca_tiny/checkpoint_144001\"\n",
    "# train_state = checkpoints.restore_checkpoint(checkpoint_path, train_state)"
   ]
  },
  {
   "cell_type": "markdown",
   "id": "aedba09b-22c9-434b-a67c-e5f867b4842d",
   "metadata": {},
   "source": [
    "## Run Inference"
   ]
  },
  {
   "cell_type": "code",
   "execution_count": 9,
   "id": "5e7788c4-d1e7-4415-b0bc-f36b69a45097",
   "metadata": {},
   "outputs": [
    {
     "name": "stdout",
     "output_type": "stream",
     "text": [
      "batch[query0]: (4, 96, 96, 12)\n",
      "batch[query0_box]: (4, 5)\n",
      "batch[query0_mask]: (4, 14, 14, 1)\n",
      "batch[query1]: (4, 96, 96, 12)\n",
      "batch[query1_box]: (4, 5)\n",
      "batch[query1_mask]: (4, 6, 6, 1)\n",
      "batch[query2]: (4, 96, 96, 12)\n",
      "batch[query2_box]: (4, 5)\n",
      "batch[query2_mask]: (4, 6, 6, 1)\n",
      "batch[query3]: (4, 96, 96, 12)\n",
      "batch[query3_box]: (4, 5)\n",
      "batch[query3_mask]: (4, 6, 6, 1)\n",
      "batch[query4]: (4, 96, 96, 12)\n",
      "batch[query4_box]: (4, 5)\n",
      "batch[query4_mask]: (4, 6, 6, 1)\n",
      "batch[query5]: (4, 96, 96, 12)\n",
      "batch[query5_box]: (4, 5)\n",
      "batch[query5_mask]: (4, 6, 6, 1)\n",
      "batch[query6]: (4, 96, 96, 12)\n",
      "batch[query6_box]: (4, 5)\n",
      "batch[query6_mask]: (4, 6, 6, 1)\n",
      "batch[query7]: (4, 96, 96, 12)\n",
      "batch[query7_box]: (4, 5)\n",
      "batch[query7_mask]: (4, 6, 6, 1)\n",
      "batch[query8]: (4, 96, 96, 12)\n",
      "batch[query8_box]: (4, 5)\n",
      "batch[query8_mask]: (4, 6, 6, 1)\n",
      "batch[query9]: (4, 96, 96, 12)\n",
      "batch[query9_box]: (4, 5)\n",
      "batch[query9_mask]: (4, 6, 6, 1)\n",
      "batch[reference]: (4, 96, 96, 12)\n"
     ]
    }
   ],
   "source": [
    "batch = next(dataset.train_iter)\n",
    "\n",
    "batch = remove_batch_dim0(batch, debug=True)\n",
    "batch = utils.prepare_input(batch, config)"
   ]
  },
  {
   "cell_type": "code",
   "execution_count": 10,
   "id": "99fe5a52-ecf4-47ad-b0cd-b7f61966c012",
   "metadata": {},
   "outputs": [],
   "source": [
    "dropout_rng, droptok_rng = jax.random.split(rng)\n",
    "\n",
    "use_ema = True\n",
    "drop_moment = \"late\"\n",
    "\n",
    "_, r_feat_targets, r_patch_features, _  = model.flax_model.apply(\n",
    "    {'params': train_state.ema_params if use_ema else params},\n",
    "    batch['reference'],\n",
    "    seqlen=config.reference_seqlen,\n",
    "    seqlen_selection=config.reference_seqlen_selection,\n",
    "    drop_moment=drop_moment,\n",
    "    train=True,\n",
    "    rngs={'dropout': dropout_rng, 'droptok': droptok_rng}\n",
    ")"
   ]
  },
  {
   "cell_type": "code",
   "execution_count": 11,
   "id": "7843265e-85bd-469c-adfe-b56eaf3ed334",
   "metadata": {},
   "outputs": [],
   "source": [
    "use_pe = False\n",
    "\n",
    "q_rand_loc_pred, q_rand_feat_pred, q_rand_patches, q_rand_idx_kept = model.flax_model.apply(\n",
    "    {'params': params},\n",
    "    batch['query0'],\n",
    "    inputs_kv=r_patch_features,\n",
    "    seqlen=config.query_max_seqlen,\n",
    "    use_pe=use_pe,\n",
    "    drop_moment='early',\n",
    "    train=True,\n",
    "    rngs={'dropout': dropout_rng, 'droptok': droptok_rng})"
   ]
  },
  {
   "cell_type": "code",
   "execution_count": 12,
   "id": "220b8915-24a3-4c9b-8e4a-3702117e814d",
   "metadata": {},
   "outputs": [],
   "source": [
    "n_q_foc = config.dataset_configs.number_of_focal_queries\n",
    "\n",
    "q_foc_loc_pred, q_foc_feat_pred, _, _ = model.flax_model.apply(\n",
    "    {'params': params},\n",
    "    batch['queries'],\n",
    "    inputs_kv=jnp.tile(r_patch_features, (n_q_foc, 1, 1)),\n",
    "    use_pe=use_pe,\n",
    "    train=True,\n",
    "    rngs={'dropout': dropout_rng})"
   ]
  },
  {
   "cell_type": "markdown",
   "id": "6bd2edbd-4968-4ccf-beee-201ddf727425",
   "metadata": {},
   "source": [
    "## Analyse model output"
   ]
  },
  {
   "cell_type": "markdown",
   "id": "66f4b3cc-a77e-445a-bf73-820602d8db43",
   "metadata": {},
   "source": [
    "### Reference patch tokens"
   ]
  },
  {
   "cell_type": "code",
   "execution_count": 12,
   "id": "464350d3-5522-4b8a-9905-fe6ee669bd91",
   "metadata": {},
   "outputs": [
    {
     "name": "stdout",
     "output_type": "stream",
     "text": [
      "(4, 39, 192)\n"
     ]
    },
    {
     "data": {
      "text/plain": [
       "Array([[ 0.09143923, -1.1700078 , -2.1468859 , -0.1021183 ],\n",
       "       [ 0.077398  , -1.159975  , -2.163587  , -0.22053656],\n",
       "       [ 0.09452709, -1.1606191 , -2.1384208 , -0.20092526],\n",
       "       [ 0.08190839, -1.1760702 , -2.1295161 , -0.16173275]],      dtype=float32)"
      ]
     },
     "execution_count": 12,
     "metadata": {},
     "output_type": "execute_result"
    }
   ],
   "source": [
    "print(r_patch_features.shape)\n",
    "r_patch_features[0, ::10, :4]"
   ]
  },
  {
   "cell_type": "code",
   "execution_count": 13,
   "id": "a8599daa-747e-4484-8e4f-ad76db2138bf",
   "metadata": {},
   "outputs": [
    {
     "data": {
      "text/plain": [
       "Array(False, dtype=bool)"
      ]
     },
     "execution_count": 13,
     "metadata": {},
     "output_type": "execute_result"
    }
   ],
   "source": [
    "jnp.any(jnp.isnan(r_patch_features))"
   ]
  },
  {
   "cell_type": "markdown",
   "id": "cd0bbe93-4d41-4421-aa8c-9b50889a28c9",
   "metadata": {},
   "source": [
    "### Query-rand patch tokens"
   ]
  },
  {
   "cell_type": "code",
   "execution_count": 13,
   "id": "54342b04-3592-434e-a7ce-bbe7db4fa57e",
   "metadata": {},
   "outputs": [
    {
     "name": "stdout",
     "output_type": "stream",
     "text": [
      "(4, 70, 192)\n"
     ]
    },
    {
     "data": {
      "text/plain": [
       "Array([[[nan, nan, nan, nan],\n",
       "        [nan, nan, nan, nan],\n",
       "        [nan, nan, nan, nan],\n",
       "        [nan, nan, nan, nan],\n",
       "        [nan, nan, nan, nan],\n",
       "        [nan, nan, nan, nan],\n",
       "        [nan, nan, nan, nan]],\n",
       "\n",
       "       [[nan, nan, nan, nan],\n",
       "        [nan, nan, nan, nan],\n",
       "        [nan, nan, nan, nan],\n",
       "        [nan, nan, nan, nan],\n",
       "        [nan, nan, nan, nan],\n",
       "        [nan, nan, nan, nan],\n",
       "        [nan, nan, nan, nan]]], dtype=float32)"
      ]
     },
     "execution_count": 13,
     "metadata": {},
     "output_type": "execute_result"
    }
   ],
   "source": [
    "print(q_rand_patches.shape)\n",
    "q_rand_patches[:2, ::10, :4]"
   ]
  },
  {
   "cell_type": "code",
   "execution_count": 27,
   "id": "4bafad83-7e77-427e-9eef-8ff54cd3e91d",
   "metadata": {},
   "outputs": [
    {
     "data": {
      "text/plain": [
       "Array(False, dtype=bool)"
      ]
     },
     "execution_count": 27,
     "metadata": {},
     "output_type": "execute_result"
    }
   ],
   "source": [
    "jnp.any(jnp.isnan(q_rand_embs))"
   ]
  },
  {
   "cell_type": "code",
   "execution_count": 28,
   "id": "7e732698-1d0e-4fc3-a2cd-2a770d811261",
   "metadata": {},
   "outputs": [
    {
     "data": {
      "text/plain": [
       "(4, 36, 192)"
      ]
     },
     "execution_count": 28,
     "metadata": {},
     "output_type": "execute_result"
    }
   ],
   "source": [
    "q_rand_embs.shape"
   ]
  },
  {
   "cell_type": "code",
   "execution_count": 15,
   "id": "a8363ac6-271b-49d1-8c0a-35ae691b25a9",
   "metadata": {},
   "outputs": [
    {
     "data": {
      "text/plain": [
       "Array([[[-1.10787064e-01,  8.95349145e-01, -1.33761334e+00, ...,\n",
       "         -1.89090356e-01, -1.42756999e-01, -9.83212113e-01],\n",
       "        [-7.92157054e-02,  7.36271799e-01, -1.58569229e+00, ...,\n",
       "         -3.70677203e-01, -1.69559270e-01, -1.03287411e+00],\n",
       "        [-1.76383421e-01,  8.34177375e-01, -1.39298892e+00, ...,\n",
       "         -1.72847956e-01, -9.16181132e-02, -9.49293673e-01],\n",
       "        ...,\n",
       "        [ 3.13728154e-02,  1.01889694e+00, -2.27226734e+00, ...,\n",
       "         -6.61732554e-01, -9.73063558e-02, -1.05954897e+00],\n",
       "        [-6.09459430e-02,  7.92530179e-01, -1.71518445e+00, ...,\n",
       "         -3.73998612e-01, -1.72679901e-01, -1.06837070e+00],\n",
       "        [-8.21409672e-02,  4.87361491e-01, -1.14394379e+00, ...,\n",
       "         -2.11372897e-01, -1.79671794e-01, -9.07331288e-01]],\n",
       "\n",
       "       [[ 4.73139733e-02, -4.65126634e-01,  8.14325035e-01, ...,\n",
       "          8.92506659e-01, -1.52092874e-01,  1.28366202e-01],\n",
       "        [ 3.23877335e-02, -5.77660680e-01,  8.19554925e-01, ...,\n",
       "          7.36851156e-01, -1.46330953e-01,  1.03597365e-01],\n",
       "        [ 3.86483371e-02, -6.20810151e-01,  1.04172313e+00, ...,\n",
       "          7.82091856e-01, -1.78696036e-01,  1.61889836e-01],\n",
       "        ...,\n",
       "        [ 6.69458658e-02, -6.59319460e-01,  1.02244580e+00, ...,\n",
       "          8.18409324e-01, -2.27171987e-01,  2.24502802e-01],\n",
       "        [ 3.45747471e-02, -5.87612391e-01,  9.34705317e-01, ...,\n",
       "          7.72113800e-01, -1.69839904e-01,  1.75273955e-01],\n",
       "        [ 2.28289366e-02, -5.60524225e-01,  9.63174880e-01, ...,\n",
       "          7.98873425e-01, -9.11306441e-02,  1.87832505e-01]],\n",
       "\n",
       "       [[-1.91752449e-01, -6.40351892e-01,  1.39555860e+00, ...,\n",
       "          7.21255660e-01,  1.24103814e-01,  2.34324902e-01],\n",
       "        [-1.80223554e-01, -7.48955846e-01,  1.60034049e+00, ...,\n",
       "          7.55031347e-01,  4.88646515e-02,  3.13661516e-01],\n",
       "        [-1.52079016e-01, -8.22080374e-01,  1.63410926e+00, ...,\n",
       "          7.37235069e-01, -6.50258213e-02,  3.30599904e-01],\n",
       "        ...,\n",
       "        [-1.30718946e-01, -7.77910590e-01,  1.43524528e+00, ...,\n",
       "          6.90567374e-01, -5.94394282e-02,  2.49569267e-01],\n",
       "        [-2.18002021e-01, -7.38195240e-01,  1.60931861e+00, ...,\n",
       "          8.18917036e-01,  2.73659602e-02,  2.85550863e-01],\n",
       "        [-1.21531710e-01, -7.91503489e-01,  1.41153371e+00, ...,\n",
       "          6.87759399e-01, -3.55530903e-02,  2.00384036e-01]],\n",
       "\n",
       "       [[ 2.99688503e-02,  4.11390364e-02, -2.01903760e-01, ...,\n",
       "          4.34439659e-01, -1.25742614e-01, -4.17428046e-01],\n",
       "        [ 9.60643888e-02,  8.72884095e-02, -5.64500213e-01, ...,\n",
       "          1.37446314e-01, -2.83000588e-01, -5.19732416e-01],\n",
       "        [-1.67137384e-03, -2.27049530e-01,  1.64919466e-01, ...,\n",
       "          3.67607355e-01, -2.23294601e-01, -4.17778790e-01],\n",
       "        ...,\n",
       "        [ 5.42341471e-02, -8.32202971e-01,  1.07465255e+00, ...,\n",
       "          6.83596849e-01, -3.44184756e-01,  7.65366852e-03],\n",
       "        [ 2.24734545e-02,  1.44553095e-01, -2.80208915e-01, ...,\n",
       "          4.07660574e-01, -1.35158360e-01, -4.65563685e-01],\n",
       "        [ 1.91806450e-01,  1.14308566e-01, -8.08204651e-01, ...,\n",
       "          1.78480729e-01, -3.70327175e-01, -5.55318058e-01]]],      dtype=float32)"
      ]
     },
     "execution_count": 15,
     "metadata": {},
     "output_type": "execute_result"
    }
   ],
   "source": [
    "jnp.take(q_rand_embs, q_rand_idx_kept, axis=1, mode='fill')"
   ]
  },
  {
   "cell_type": "code",
   "execution_count": 13,
   "id": "eac520c4-5d68-43ff-a100-18337183a1f1",
   "metadata": {},
   "outputs": [
    {
     "data": {
      "text/plain": [
       "Array([[[-1.11150131e-01,  2.81419575e-01,  3.48025441e-01, ...,\n",
       "          7.11484849e-01,  5.89776397e-01,  1.14823513e-01],\n",
       "        [ 9.63715762e-02, -7.89189339e-03,  4.70444858e-01, ...,\n",
       "          6.02702796e-01,  3.53981107e-01, -1.19856268e-01],\n",
       "        [-1.38252780e-01,  1.78472474e-01,  4.54193890e-01, ...,\n",
       "          6.85474575e-01,  6.02692604e-01,  1.64564624e-01],\n",
       "        ...,\n",
       "        [-2.57698834e-01,  6.14856482e-02,  5.61719656e-01, ...,\n",
       "          6.70400560e-01,  7.00017452e-01,  1.42730176e-01],\n",
       "        [-3.18000615e-01,  1.33932084e-02,  6.35494888e-01, ...,\n",
       "          8.36347580e-01,  6.07930779e-01,  1.02355681e-01],\n",
       "        [-1.35321662e-01,  2.15220124e-01,  3.44999671e-01, ...,\n",
       "          7.04621732e-01,  5.89404762e-01, -1.52877614e-01]],\n",
       "\n",
       "       [[-1.36173427e-01,  2.92362154e-01,  2.63702273e-02, ...,\n",
       "          9.02320147e-01,  8.81894112e-01, -1.52121991e-01],\n",
       "        [-2.67507434e-02,  3.85551840e-01, -7.55922794e-02, ...,\n",
       "          1.03333962e+00,  7.71077573e-01, -1.25263125e-01],\n",
       "        [-3.38360667e-03,  3.77378523e-01, -2.37285495e-02, ...,\n",
       "          1.02783465e+00,  7.25592375e-01, -1.30887792e-01],\n",
       "        ...,\n",
       "        [-1.54892206e-01,  2.24337801e-01,  6.64277971e-02, ...,\n",
       "          1.02240074e+00,  5.75502098e-01,  6.49715289e-02],\n",
       "        [ 7.92242587e-03,  9.32568610e-02,  2.28487551e-01, ...,\n",
       "          1.04563868e+00,  5.49261212e-01, -5.57488203e-03],\n",
       "        [-9.64930952e-02,  1.36046231e-01,  3.38424116e-01, ...,\n",
       "          1.00578797e+00,  7.31463075e-01, -7.39613175e-03]],\n",
       "\n",
       "       [[-1.14947841e-01, -8.77043128e-01,  1.88091314e+00, ...,\n",
       "          1.16535211e+00,  1.19153239e-01,  4.50787812e-01],\n",
       "        [-2.20352069e-01, -6.21536732e-01,  1.63403249e+00, ...,\n",
       "          1.07149410e+00,  3.41864735e-01,  3.46585214e-01],\n",
       "        [-9.90466774e-02, -7.97680020e-01,  1.58982515e+00, ...,\n",
       "          1.08111608e+00,  8.03381205e-04,  2.64199972e-01],\n",
       "        ...,\n",
       "        [-8.98070335e-02, -7.61495113e-01,  1.82677662e+00, ...,\n",
       "          1.17871046e+00,  1.12799391e-01,  4.16120410e-01],\n",
       "        [-8.56969357e-02, -7.56399751e-01,  1.67839944e+00, ...,\n",
       "          1.16473949e+00,  9.31685641e-02,  4.03864682e-01],\n",
       "        [-1.45113617e-01, -7.73894608e-01,  1.75352168e+00, ...,\n",
       "          1.08163357e+00,  2.76271880e-01,  2.94636548e-01]],\n",
       "\n",
       "       [[ 1.19801484e-01, -4.08062398e-01, -1.47956967e-01, ...,\n",
       "          1.77226961e-03, -2.89241552e-01, -3.66268158e-01],\n",
       "        [-1.33436933e-01, -2.59601742e-01,  3.16264331e-01, ...,\n",
       "          3.20606709e-01, -1.75471187e-01, -3.31048995e-01],\n",
       "        [-1.97563618e-01,  1.84365511e-02,  1.86300427e-02, ...,\n",
       "          1.01443321e-01, -1.03963509e-01, -5.21640301e-01],\n",
       "        ...,\n",
       "        [-1.76181823e-01, -1.62888110e-01,  4.58617568e-01, ...,\n",
       "          5.41350543e-01,  6.51356727e-02, -1.12546504e-01],\n",
       "        [-3.44326884e-01,  7.00350821e-01, -1.59787461e-02, ...,\n",
       "          3.44352901e-01,  1.30280614e-01, -5.25091231e-01],\n",
       "        [-3.60540330e-01,  1.06840146e+00, -5.96808076e-01, ...,\n",
       "          4.67012376e-01,  1.57078370e-01, -6.28301919e-01]]],      dtype=float32)"
      ]
     },
     "execution_count": 13,
     "metadata": {},
     "output_type": "execute_result"
    }
   ],
   "source": [
    "q_rand_embs"
   ]
  },
  {
   "cell_type": "markdown",
   "id": "620b1be0-c97f-4cf2-86e9-e045a9da4dca",
   "metadata": {},
   "source": [
    "### `Q_rand` location targets"
   ]
  },
  {
   "cell_type": "code",
   "execution_count": 50,
   "id": "76bfb306-8166-4d71-b243-f1c2e58a3083",
   "metadata": {},
   "outputs": [
    {
     "name": "stdout",
     "output_type": "stream",
     "text": [
      "[[ 65  64  63  62  61  60  58  57  56  -1  -1  -1  -1  -1]\n",
      " [ 79  78  77  76  75  74  72  71  70  -1  -1  -1  -1  -1]\n",
      " [ 79  78  77  76  75  74  72  71  70  -1  -1  -1  -1  -1]\n",
      " [ 93  92  91  90  89  88  86  85  84  -1  -1  -1  -1  -1]\n",
      " [107 106 105 104 103 102 100  99  98  -1  -1  -1  -1  -1]\n",
      " [121 120 119 118 117 116 114 113 112  -1  -1  -1  -1  -1]\n",
      " [121 120 119 118 117 116 114 113 112  -1  -1  -1  -1  -1]\n",
      " [135 134 133 132 131 130 128 127 126  -1  -1  -1  -1  -1]\n",
      " [149 148 147 146 145 144 142 141 140  -1  -1  -1  -1  -1]\n",
      " [163 162 161 160 159 158 156 155 154  -1  -1  -1  -1  -1]\n",
      " [177 176 175 174 173 172 170 169 168  -1  -1  -1  -1  -1]\n",
      " [177 176 175 174 173 172 170 169 168  -1  -1  -1  -1  -1]\n",
      " [191 190 189 188 187 186 184 183 182  -1  -1  -1  -1  -1]\n",
      " [ -1  -1  -1  -1  -1  -1  -1  -1  -1  -1  -1  -1  -1  -1]]\n"
     ]
    }
   ],
   "source": [
    "q_rand_targets = batch[\"query0_target_position\"]\n",
    "print(q_rand_targets[0].squeeze(-1))"
   ]
  },
  {
   "cell_type": "code",
   "execution_count": 51,
   "id": "ac9ba5be-d054-439a-b67f-8082de8003ad",
   "metadata": {},
   "outputs": [
    {
     "data": {
      "text/plain": [
       "Array([ 90,  92, 183,  77, 190,  72,  70, 132, 189, 141,  79, 105, 149,\n",
       "       168, 155,  70, 116,  71, 126, 176, 128, 154,  76, 114, 162, 184,\n",
       "       182, 148, 177, 176,  75,  56, 100,  78, 120, 120, 170,  98],      dtype=int32)"
      ]
     },
     "execution_count": 51,
     "metadata": {},
     "output_type": "execute_result"
    }
   ],
   "source": [
    "q_rand_loc_targets = batch['query0_target_position'].reshape(config.batch_size, -1)\n",
    "q_rand_loc_targets = jnp.take(q_rand_loc_targets, q_rand_idx_kept, axis=1)\n",
    "q_rand_loc_targets[0][q_rand_loc_targets[0] != -1]"
   ]
  },
  {
   "cell_type": "markdown",
   "id": "4f0c7f39-cc67-4f6f-b2c5-db60be19cec2",
   "metadata": {},
   "source": [
    "### `q_rand` location predictions"
   ]
  },
  {
   "cell_type": "code",
   "execution_count": 54,
   "id": "a5d2eb19-11dc-45c3-89a7-b2bc504bdc48",
   "metadata": {},
   "outputs": [
    {
     "name": "stdout",
     "output_type": "stream",
     "text": [
      "q_rand_loc_pred (4, 70, 36)\n"
     ]
    },
    {
     "data": {
      "text/plain": [
       "Array([0, 0, 0, 0, 0, 0, 0, 0, 0, 0, 0, 0, 0, 0, 0, 0, 0, 0, 0, 0, 0, 0,\n",
       "       0, 0, 0, 0, 0, 0, 0, 0, 0, 0, 0, 0, 0, 0, 0, 0, 0, 0, 0, 0, 0, 0,\n",
       "       0, 0, 0, 0, 0, 0, 0, 0, 0, 0, 0, 0, 0, 0, 0, 0, 0, 0, 0, 0, 0, 0,\n",
       "       0, 0, 0, 0], dtype=int32)"
      ]
     },
     "execution_count": 54,
     "metadata": {},
     "output_type": "execute_result"
    }
   ],
   "source": [
    "print(\"q_rand_loc_pred\", q_rand_loc_pred.shape)\n",
    "\n",
    "q_rand_loc_pred[0].argmax(axis=1)"
   ]
  }
 ],
 "metadata": {
  "kernelspec": {
   "display_name": "Python 3 (ipykernel)",
   "language": "python",
   "name": "python3"
  },
  "language_info": {
   "codemirror_mode": {
    "name": "ipython",
    "version": 3
   },
   "file_extension": ".py",
   "mimetype": "text/x-python",
   "name": "python",
   "nbconvert_exporter": "python",
   "pygments_lexer": "ipython3",
   "version": "3.10.16"
  }
 },
 "nbformat": 4,
 "nbformat_minor": 5
}
