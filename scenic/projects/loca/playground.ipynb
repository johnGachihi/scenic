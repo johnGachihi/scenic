{
 "cells": [
  {
   "cell_type": "code",
   "execution_count": 1,
   "id": "d9510756-042c-4edd-bb5d-12d3fe101847",
   "metadata": {},
   "outputs": [
    {
     "name": "stderr",
     "output_type": "stream",
     "text": [
      "2025-02-22 13:24:35.582636: E tensorflow/compiler/xla/stream_executor/cuda/cuda_dnn.cc:9342] Unable to register cuDNN factory: Attempting to register factory for plugin cuDNN when one has already been registered\n",
      "2025-02-22 13:24:35.582754: E tensorflow/compiler/xla/stream_executor/cuda/cuda_fft.cc:609] Unable to register cuFFT factory: Attempting to register factory for plugin cuFFT when one has already been registered\n",
      "2025-02-22 13:24:35.585351: E tensorflow/compiler/xla/stream_executor/cuda/cuda_blas.cc:1518] Unable to register cuBLAS factory: Attempting to register factory for plugin cuBLAS when one has already been registered\n"
     ]
    }
   ],
   "source": [
    "import utils"
   ]
  },
  {
   "cell_type": "markdown",
   "id": "eb676603-6d19-4199-9d88-e17df0b4f1d3",
   "metadata": {},
   "source": [
    "## Setup config"
   ]
  },
  {
   "cell_type": "code",
   "execution_count": 2,
   "id": "df989d1a-48ea-4b9b-acb0-6397df145403",
   "metadata": {
    "ExecuteTime": {
     "end_time": "2025-02-21T07:36:42.928412Z",
     "start_time": "2025-02-21T07:36:42.900040Z"
    }
   },
   "outputs": [],
   "source": [
    "from configs.loca_imnet1k_base16 import get_config\n",
    "\n",
    "config = get_config()"
   ]
  },
  {
   "cell_type": "markdown",
   "id": "49d916f7-0a98-4318-a96e-8c9415dfb088",
   "metadata": {},
   "source": [
    "## Setup Dataset"
   ]
  },
  {
   "cell_type": "code",
   "execution_count": 3,
   "id": "9e2fad0a-84dc-498f-ac6b-4ab1425668bf",
   "metadata": {},
   "outputs": [
    {
     "name": "stderr",
     "output_type": "stream",
     "text": [
      "/home/admin/anaconda3/envs/flax/lib/python3.10/site-packages/tensorflow_addons/utils/tfa_eol_msg.py:23: UserWarning: \n",
      "\n",
      "TensorFlow Addons (TFA) has ended development and introduction of new features.\n",
      "TFA has entered a minimal maintenance and release mode until a planned end of life in May 2024.\n",
      "Please modify downstream libraries to take dependencies from other repositories in our TensorFlow community (e.g. Keras, Keras-CV, and Keras-NLP). \n",
      "\n",
      "For more information see: https://github.com/tensorflow/addons/issues/2807 \n",
      "\n",
      "  warnings.warn(\n",
      "WARNING:tensorflow:From /home/admin/anaconda3/envs/flax/lib/python3.10/site-packages/tensorflow_datasets/core/reader.py:101: CounterV2 (from tensorflow.python.data.experimental.ops.counter) is deprecated and will be removed in a future version.\n",
      "Instructions for updating:\n",
      "Use `tf.data.Dataset.counter(...)` instead.\n",
      "WARNING:tensorflow:From /home/admin/john/scenic/scenic/dataset_lib/dataset_utils.py:870: ignore_errors (from tensorflow.python.data.experimental.ops.error_ops) is deprecated and will be removed in a future version.\n",
      "Instructions for updating:\n",
      "Use `tf.data.Dataset.ignore_errors` instead.\n"
     ]
    }
   ],
   "source": [
    "from scenic.train_lib import train_utils\n",
    "import jax.numpy as jnp\n",
    "import loca_dataset\n",
    "import ops\n",
    "import jax\n",
    "\n",
    "rng = jax.random.key(77)\n",
    "data_rng, rng = jax.random.split(rng)\n",
    "\n",
    "dataset = train_utils.get_dataset(config, data_rng)"
   ]
  },
  {
   "cell_type": "markdown",
   "id": "97eaceb7-3531-4a8c-a902-4d36eccd61eb",
   "metadata": {},
   "source": [
    "## Visualise data"
   ]
  },
  {
   "cell_type": "code",
   "execution_count": 4,
   "id": "80046b61-56c3-41f3-b2f2-7c13444fc5d7",
   "metadata": {},
   "outputs": [],
   "source": [
    "def remove_batch_dim0(batch, debug=False):\n",
    "    # Remove dim 0. (Don't know where extra dim is added at 0)\n",
    "    for k, v in batch.items():\n",
    "        batch[k] = v.squeeze(0)\n",
    "        if debug:\n",
    "            print(f\"batch[{k}]: {batch[k].shape}\")\n",
    "\n",
    "    return batch"
   ]
  },
  {
   "cell_type": "code",
   "execution_count": null,
   "id": "2f7cf56c-7759-4958-ae6a-a758ea06d3fc",
   "metadata": {},
   "outputs": [],
   "source": [
    "import matplotlib.pyplot as plt\n",
    "import matplotlib.patches as patches\n",
    "import matplotlib.gridspec as gridspec\n",
    "from configs.loca_imnet1k_base16 import MEAN_RGB, STDDEV_RGB\n",
    "\n",
    "viz_batch = next(dataset.train_iter)\n",
    "viz_batch = remove_batch_dim0(viz_batch)\n",
    "viz_batch = utils.prepare_input(viz_batch, config)\n",
    "\n",
    "fig = plt.figure(figsize=(17, 9))\n",
    "\n",
    "gs0 = gridspec.GridSpec(2, 6, figure=fig)\n",
    "\n",
    "# Plot reference\n",
    "gs00 = gridspec.GridSpecFromSubplotSpec(2, 2, subplot_spec=gs0[0])\n",
    "ax1 = fig.add_subplot(gs00[:2, :2])\n",
    "ref_img = (viz_batch['reference'][0] * jnp.array(STDDEV_RGB) + jnp.array(MEAN_RGB))\n",
    "ax1.imshow(ref_img)\n",
    "\n",
    "# Plot queries\n",
    "n_q_foc = config.dataset_configs.number_of_focal_queries\n",
    "queries = viz_batch['queries'].reshape(n_q_foc, config.batch_size, 96, 96, 3)\n",
    "gs01 = gridspec.GridSpecFromSubplotSpec(2, 4, subplot_spec=gs0[1:])\n",
    "for i, query in enumerate(queries[:4]):\n",
    "    ax = fig.add_subplot(gs01[0, i])\n",
    "    ax.imshow(query[0] * jnp.array(STDDEV_RGB) + jnp.array(MEAN_RGB))\n",
    "    ax.set_title(f'Query {i + 1} Crop')"
   ]
  },
  {
   "cell_type": "markdown",
   "id": "65f5e816-53dd-4cc4-afa0-c75c8110c017",
   "metadata": {},
   "source": [
    "## Load Model"
   ]
  },
  {
   "cell_type": "code",
   "execution_count": null,
   "id": "initial_id",
   "metadata": {
    "ExecuteTime": {
     "end_time": "2025-02-20T16:19:21.470341Z",
     "start_time": "2025-02-20T16:19:21.468268Z"
    }
   },
   "outputs": [],
   "source": [
    "import flax\n",
    "from flax.training import checkpoints\n",
    "import optax\n",
    "from scenic.train_lib import lr_schedules\n",
    "import vit\n",
    "import copy\n",
    "\n",
    "model = vit.ViTLOCAModel(config, dataset.meta_data)\n",
    "\n",
    "rng, init_rng = jax.random.split(rng)\n",
    "(params, _, num_trainable_params, gflops) = train_utils.initialize_model(\n",
    "    model_def=model.flax_model,\n",
    "    input_spec=[\n",
    "        (dataset.meta_data['input_shape'], dataset.meta_data.get('input_dtype', jnp.float32))],\n",
    "    config=config, rngs=init_rng\n",
    ")\n",
    "\n",
    "# Only one model function but two sets of parameters.\n",
    "ema_params = copy.deepcopy(params)\n",
    "\n",
    "learning_rate_fn = lr_schedules.get_learning_rate_fn(config)\n",
    "momentum_parameter_scheduler = lr_schedules.compound_lr_scheduler(\n",
    "  config.momentum_rate)\n",
    "\n",
    "weight_decay_mask = jax.tree_util.tree_map(lambda x: x.ndim != 1, params)\n",
    "tx = optax.inject_hyperparams(optax.adamw)(\n",
    "  learning_rate=learning_rate_fn, weight_decay=config.weight_decay,\n",
    "  mask=weight_decay_mask)\n",
    "\n",
    "opt_state = jax.jit(tx.init, backend='cpu')(params)\n",
    "\n",
    "chrono = train_utils.Chrono()\n",
    "\n",
    "train_state = utils.TrainState(\n",
    "  global_step=0, opt_state=opt_state, tx=tx, params=params,\n",
    "  ema_params=ema_params, rng=rng, metadata={'chrono': chrono.save()})\n",
    "\n",
    "checkpoint_path = \"/home/admin/john/scenic/loca_base/checkpoint_144001\"\n",
    "train_state = checkpoints.restore_checkpoint(checkpoint_path, train_state)"
   ]
  },
  {
   "cell_type": "markdown",
   "id": "aedba09b-22c9-434b-a67c-e5f867b4842d",
   "metadata": {},
   "source": [
    "## Run Inference"
   ]
  },
  {
   "cell_type": "code",
   "execution_count": null,
   "id": "5e7788c4-d1e7-4415-b0bc-f36b69a45097",
   "metadata": {},
   "outputs": [],
   "source": [
    "batch = next(dataset.train_iter)\n",
    "\n",
    "batch = remove_batch_dim0(batch, debug=True)\n",
    "batch = utils.prepare_input(batch, config)"
   ]
  },
  {
   "cell_type": "code",
   "execution_count": null,
   "id": "99fe5a52-ecf4-47ad-b0cd-b7f61966c012",
   "metadata": {},
   "outputs": [],
   "source": [
    "dropout_rng, droptok_rng = jax.random.split(rng)\n",
    "\n",
    "use_ema = True\n",
    "drop_moment = \"late\"\n",
    "\n",
    "_, r_feat_targets, r_patch_features, _  = model.flax_model.apply(\n",
    "    {'params': train_state.ema_params if use_ema else params},\n",
    "    batch['reference'],\n",
    "    seqlen=config.reference_seqlen,\n",
    "    seqlen_selection=config.reference_seqlen_selection,\n",
    "    drop_moment=drop_moment,\n",
    "    train=True,\n",
    "    rngs={'dropout': dropout_rng, 'droptok': droptok_rng}\n",
    ")"
   ]
  },
  {
   "cell_type": "code",
   "execution_count": null,
   "id": "7843265e-85bd-469c-adfe-b56eaf3ed334",
   "metadata": {},
   "outputs": [],
   "source": [
    "use_pe = False\n",
    "\n",
    "q_rand_loc_pred, q_rand_feat_pred, q_rand_patches, q_rand_idx_kept = model.flax_model.apply(\n",
    "    {'params': params},\n",
    "    batch['query0'],\n",
    "    inputs_kv=r_patch_features,\n",
    "    seqlen=config.query_max_seqlen,\n",
    "    use_pe=use_pe,\n",
    "    train=True,\n",
    "    rngs={'dropout': dropout_rng, 'droptok': droptok_rng})"
   ]
  },
  {
   "cell_type": "code",
   "execution_count": null,
   "id": "220b8915-24a3-4c9b-8e4a-3702117e814d",
   "metadata": {},
   "outputs": [],
   "source": [
    "n_q_foc = config.dataset_configs.number_of_focal_queries\n",
    "\n",
    "q_foc_loc_pred, q_foc_feat_pred, _, _ = model.flax_model.apply(\n",
    "    {'params': params},\n",
    "    batch['queries'],\n",
    "    inputs_kv=jnp.tile(r_patch_features, (n_q_foc, 1, 1)),\n",
    "    use_pe=use_pe,\n",
    "    train=True,\n",
    "    rngs={'dropout': dropout_rng})"
   ]
  },
  {
   "cell_type": "markdown",
   "id": "6bd2edbd-4968-4ccf-beee-201ddf727425",
   "metadata": {},
   "source": [
    "## Analyse model output"
   ]
  },
  {
   "cell_type": "markdown",
   "id": "66f4b3cc-a77e-445a-bf73-820602d8db43",
   "metadata": {},
   "source": [
    "### Reference patch tokens"
   ]
  },
  {
   "cell_type": "code",
   "execution_count": null,
   "id": "464350d3-5522-4b8a-9905-fe6ee669bd91",
   "metadata": {},
   "outputs": [],
   "source": [
    "print(r_patch_features.shape)\n",
    "r_patch_features[0, ::10, :4]"
   ]
  },
  {
   "cell_type": "markdown",
   "id": "cd0bbe93-4d41-4421-aa8c-9b50889a28c9",
   "metadata": {},
   "source": [
    "### Query-rand patch tokens"
   ]
  },
  {
   "cell_type": "code",
   "execution_count": null,
   "id": "54342b04-3592-434e-a7ce-bbe7db4fa57e",
   "metadata": {},
   "outputs": [],
   "source": [
    "print(q_rand_patches.shape)\n",
    "q_rand_patches[:2, ::10, :4]"
   ]
  },
  {
   "cell_type": "markdown",
   "id": "620b1be0-c97f-4cf2-86e9-e045a9da4dca",
   "metadata": {},
   "source": [
    "### `Q_rand` location targets"
   ]
  },
  {
   "cell_type": "code",
   "execution_count": null,
   "id": "76bfb306-8166-4d71-b243-f1c2e58a3083",
   "metadata": {},
   "outputs": [],
   "source": [
    "q_rand_targets = batch[\"query0_target_position\"]\n",
    "print(q_rand_targets[0].squeeze(-1))"
   ]
  },
  {
   "cell_type": "code",
   "execution_count": null,
   "id": "ac9ba5be-d054-439a-b67f-8082de8003ad",
   "metadata": {},
   "outputs": [],
   "source": [
    "q_rand_loc_targets = batch['query0_target_position'].reshape(config.batch_size, -1)\n",
    "q_rand_loc_targets = jnp.take(q_rand_loc_targets, q_rand_idx_kept, axis=1)\n",
    "q_rand_loc_targets[0][q_rand_loc_targets[0] != -1]"
   ]
  },
  {
   "cell_type": "markdown",
   "id": "4f0c7f39-cc67-4f6f-b2c5-db60be19cec2",
   "metadata": {},
   "source": [
    "### `q_rand` location predictions"
   ]
  },
  {
   "cell_type": "code",
   "execution_count": null,
   "id": "a5d2eb19-11dc-45c3-89a7-b2bc504bdc48",
   "metadata": {},
   "outputs": [],
   "source": [
    "print(\"q_rand_loc_pred\", q_rand_loc_pred.shape)\n",
    "\n",
    "q_rand_loc_pred[0].argmax(axis=1)"
   ]
  }
 ],
 "metadata": {
  "kernelspec": {
   "display_name": "Python 3 (ipykernel)",
   "language": "python",
   "name": "python3"
  },
  "language_info": {
   "codemirror_mode": {
    "name": "ipython",
    "version": 3
   },
   "file_extension": ".py",
   "mimetype": "text/x-python",
   "name": "python",
   "nbconvert_exporter": "python",
   "pygments_lexer": "ipython3",
   "version": "3.10.16"
  }
 },
 "nbformat": 4,
 "nbformat_minor": 5
}
