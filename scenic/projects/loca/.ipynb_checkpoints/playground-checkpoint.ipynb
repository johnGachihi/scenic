{
 "cells": [
  {
   "cell_type": "code",
   "execution_count": 1,
   "id": "d9510756-042c-4edd-bb5d-12d3fe101847",
   "metadata": {
    "ExecuteTime": {
     "end_time": "2025-02-25T08:27:55.398711Z",
     "start_time": "2025-02-25T08:27:52.401745Z"
    }
   },
   "outputs": [
    {
     "name": "stderr",
     "output_type": "stream",
     "text": [
      "2025-02-25 11:28:44.493465: E tensorflow/compiler/xla/stream_executor/cuda/cuda_dnn.cc:9342] Unable to register cuDNN factory: Attempting to register factory for plugin cuDNN when one has already been registered\n",
      "2025-02-25 11:28:44.493528: E tensorflow/compiler/xla/stream_executor/cuda/cuda_fft.cc:609] Unable to register cuFFT factory: Attempting to register factory for plugin cuFFT when one has already been registered\n",
      "2025-02-25 11:28:44.493558: E tensorflow/compiler/xla/stream_executor/cuda/cuda_blas.cc:1518] Unable to register cuBLAS factory: Attempting to register factory for plugin cuBLAS when one has already been registered\n"
     ]
    }
   ],
   "source": [
    "import utils"
   ]
  },
  {
   "cell_type": "markdown",
   "id": "eb676603-6d19-4199-9d88-e17df0b4f1d3",
   "metadata": {},
   "source": [
    "## Setup config"
   ]
  },
  {
   "cell_type": "code",
   "execution_count": 2,
   "id": "df989d1a-48ea-4b9b-acb0-6397df145403",
   "metadata": {
    "ExecuteTime": {
     "end_time": "2025-02-21T07:36:42.928412Z",
     "start_time": "2025-02-21T07:36:42.900040Z"
    }
   },
   "outputs": [],
   "source": [
    "# from configs.loca_imnet1k_base16 import get_config\n",
    "from configs.loca_mmearth64_tiny16 import get_config\n",
    "\n",
    "config = get_config()"
   ]
  },
  {
   "cell_type": "markdown",
   "id": "49d916f7-0a98-4318-a96e-8c9415dfb088",
   "metadata": {},
   "source": [
    "## Setup Dataset"
   ]
  },
  {
   "cell_type": "code",
   "execution_count": 3,
   "id": "9e2fad0a-84dc-498f-ac6b-4ab1425668bf",
   "metadata": {},
   "outputs": [
    {
     "name": "stderr",
     "output_type": "stream",
     "text": [
      "/home/admin/anaconda3/envs/flax/lib/python3.10/site-packages/tensorflow_addons/utils/tfa_eol_msg.py:23: UserWarning: \n",
      "\n",
      "TensorFlow Addons (TFA) has ended development and introduction of new features.\n",
      "TFA has entered a minimal maintenance and release mode until a planned end of life in May 2024.\n",
      "Please modify downstream libraries to take dependencies from other repositories in our TensorFlow community (e.g. Keras, Keras-CV, and Keras-NLP). \n",
      "\n",
      "For more information see: https://github.com/tensorflow/addons/issues/2807 \n",
      "\n",
      "  warnings.warn(\n",
      "2025-02-25 11:28:50.326269: W tensorflow/tsl/platform/cloud/google_auth_provider.cc:184] All attempts to get a Google authentication bearer token failed, returning an empty token. Retrieving token from files failed with \"NOT_FOUND: Could not locate the credentials file.\". Retrieving token from GCE failed with \"FAILED_PRECONDITION: Error executing an HTTP request: libcurl code 6 meaning 'Couldn't resolve host name', error details: Could not resolve host: metadata.google.internal\".\n",
      "WARNING:tensorflow:From /home/admin/anaconda3/envs/flax/lib/python3.10/site-packages/tensorflow_datasets/core/reader.py:101: CounterV2 (from tensorflow.python.data.experimental.ops.counter) is deprecated and will be removed in a future version.\n",
      "Instructions for updating:\n",
      "Use `tf.data.Dataset.counter(...)` instead.\n",
      "WARNING:tensorflow:From /home/admin/john/scenic/scenic/dataset_lib/dataset_utils.py:671: ignore_errors (from tensorflow.python.data.experimental.ops.error_ops) is deprecated and will be removed in a future version.\n",
      "Instructions for updating:\n",
      "Use `tf.data.Dataset.ignore_errors` instead.\n"
     ]
    }
   ],
   "source": [
    "from scenic.train_lib import train_utils\n",
    "import jax.numpy as jnp\n",
    "import loca_dataset\n",
    "import ops\n",
    "import jax\n",
    "\n",
    "rng = jax.random.key(77)\n",
    "data_rng, rng = jax.random.split(rng)\n",
    "\n",
    "dataset = train_utils.get_dataset(config, data_rng)"
   ]
  },
  {
   "cell_type": "markdown",
   "id": "ca9fdcec-25d1-44d5-b684-30c3b00ef8b1",
   "metadata": {},
   "source": [
    "### Dataset stats"
   ]
  },
  {
   "cell_type": "code",
   "execution_count": 5,
   "id": "80046b61-56c3-41f3-b2f2-7c13444fc5d7",
   "metadata": {},
   "outputs": [],
   "source": [
    "def remove_batch_dim0(batch, debug=False):\n",
    "    # Remove dim 0. (Don't know where extra dim is added at 0)\n",
    "    for k, v in batch.items():\n",
    "        batch[k] = v.squeeze(0)\n",
    "        if debug:\n",
    "            print(f\"batch[{k}]: {batch[k].shape}\")\n",
    "\n",
    "    return batch"
   ]
  },
  {
   "cell_type": "code",
   "execution_count": 6,
   "id": "ec6f5708-6fef-4a9c-a037-1bc0847161d5",
   "metadata": {},
   "outputs": [
    {
     "name": "stdout",
     "output_type": "stream",
     "text": [
      "mean [-0.3081998  -0.35358974 -0.42667633 -0.4838029  -0.49727717 -0.48917708\n",
      " -0.52259636 -0.55557275 -0.518907   -0.41088015 -0.53607094 -0.47920895]\n",
      "min [-0.5689745  -0.5737957  -0.6222319  -0.7119623  -0.81442565 -1.1595367\n",
      " -1.3467485  -1.5016625  -1.440895   -0.88115484 -1.5511613  -1.223151  ]\n",
      "max [-0.0107851   0.14648855  0.35096782  0.5804529   0.33501086  0.58743125\n",
      "  0.66820747  0.61313087  0.6715601   0.4943325   0.8253204   0.92083997]\n",
      "std [0.17763802 0.14056164 0.16016315 0.2189391  0.2362335  0.35203528\n",
      " 0.40869367 0.43830556 0.42284    0.31526437 0.5159173  0.46323752]\n"
     ]
    }
   ],
   "source": [
    "batch = next(dataset.train_iter)\n",
    "batch = remove_batch_dim0(batch)\n",
    "batch = utils.prepare_input(batch, config)\n",
    "\n",
    "print(\"mean\", batch['reference'].reshape(-1, 12).mean(axis=0))\n",
    "print(\"min\", batch['reference'].reshape(-1, 12).min(axis=0))\n",
    "print(\"max\", batch['reference'].reshape(-1, 12).max(axis=0))\n",
    "print(\"std\", batch['reference'].reshape(-1, 12).std(axis=0))"
   ]
  },
  {
   "cell_type": "code",
   "execution_count": 7,
   "id": "477389e2-17e3-4e8c-bb3e-7fd1ab40ab47",
   "metadata": {},
   "outputs": [
    {
     "name": "stdout",
     "output_type": "stream",
     "text": [
      "mean [-0.31019694 -0.35589865 -0.43169594 -0.48114306 -0.5014053  -0.51312715\n",
      " -0.5486239  -0.580522   -0.5438058  -0.43595996 -0.54684955 -0.48635796]\n",
      "min [-0.5681522 -0.5745726 -0.619642  -0.7157696 -0.8150913 -1.1959027\n",
      " -1.3809562 -1.5567147 -1.4396904 -0.8914704 -1.5522194 -1.2231996]\n",
      "max [0.03362995 0.1026418  0.34504044 0.5738692  0.3642342  0.48881677\n",
      " 0.5637906  0.5903636  0.6363361  0.52170783 0.83981174 0.93385816]\n",
      "std [0.17845632 0.14197977 0.15764683 0.22729783 0.23568422 0.31519744\n",
      " 0.37376234 0.4110648  0.3926536  0.29350471 0.51887304 0.4702391 ]\n"
     ]
    }
   ],
   "source": [
    "print(\"mean\", batch['query0'].reshape(-1, 12).mean(axis=0))\n",
    "print(\"min\", batch['query0'].reshape(-1, 12).min(axis=0))\n",
    "print(\"max\", batch['query0'].reshape(-1, 12).max(axis=0))\n",
    "print(\"std\", batch['query0'].reshape(-1, 12).std(axis=0))"
   ]
  },
  {
   "cell_type": "code",
   "execution_count": 8,
   "id": "3ba12ad3-4190-4d42-a4ac-fed9386c3b54",
   "metadata": {},
   "outputs": [
    {
     "name": "stdout",
     "output_type": "stream",
     "text": [
      "mean [-0.307809   -0.35184884 -0.42374393 -0.48247415 -0.49440214 -0.47914603\n",
      " -0.5117733  -0.5438594  -0.5075337  -0.40070507 -0.5302092  -0.47349167]\n",
      "min [-0.566343   -0.5710848  -0.6138645  -0.7153485  -0.8154892  -1.1830808\n",
      " -1.3481432  -1.5379252  -1.4347861  -0.90126455 -1.5539213  -1.2254295 ]\n",
      "max [-0.0107691   0.12409745  0.3656869   0.6009532   0.44254622  0.78191364\n",
      "  1.0335398   1.1633672   1.1950718   0.650051    0.92014855  1.067149  ]\n",
      "std [0.1753456  0.1420307  0.16317888 0.22148372 0.23384087 0.34645832\n",
      " 0.4017468  0.42888895 0.41740397 0.31572777 0.5052979  0.45995456]\n"
     ]
    }
   ],
   "source": [
    "print(\"mean\", batch['queries'].reshape(-1, 12).mean(axis=0))\n",
    "print(\"min\", batch['queries'].reshape(-1, 12).min(axis=0))\n",
    "print(\"max\", batch['queries'].reshape(-1, 12).max(axis=0))\n",
    "print(\"std\", batch['queries'].reshape(-1, 12).std(axis=0))"
   ]
  },
  {
   "cell_type": "markdown",
   "id": "97eaceb7-3531-4a8c-a902-4d36eccd61eb",
   "metadata": {},
   "source": [
    "## Visualise data"
   ]
  },
  {
   "cell_type": "code",
   "execution_count": 9,
   "id": "2f7cf56c-7759-4958-ae6a-a758ea06d3fc",
   "metadata": {},
   "outputs": [
    {
     "ename": "ValueError",
     "evalue": "Incompatible shapes for broadcasting: shapes=[(96, 96, 12), (3,)]",
     "output_type": "error",
     "traceback": [
      "\u001b[0;31m---------------------------------------------------------------------------\u001b[0m",
      "\u001b[0;31mTypeError\u001b[0m                                 Traceback (most recent call last)",
      "File \u001b[0;32m~/anaconda3/envs/flax/lib/python3.10/site-packages/jax/_src/lax/lax.py:174\u001b[0m, in \u001b[0;36m_broadcast_shapes_uncached\u001b[0;34m(*shapes)\u001b[0m\n\u001b[1;32m    173\u001b[0m \u001b[38;5;28;01mtry\u001b[39;00m:\n\u001b[0;32m--> 174\u001b[0m   \u001b[38;5;28;01mreturn\u001b[39;00m \u001b[43m_try_broadcast_shapes\u001b[49m\u001b[43m(\u001b[49m\u001b[38;5;241;43m*\u001b[39;49m\u001b[43mrank_promoted_shapes\u001b[49m\u001b[43m,\u001b[49m\u001b[43m \u001b[49m\u001b[43mname\u001b[49m\u001b[38;5;241;43m=\u001b[39;49m\u001b[38;5;124;43m'\u001b[39;49m\u001b[38;5;124;43mbroadcast_shapes\u001b[39;49m\u001b[38;5;124;43m'\u001b[39;49m\u001b[43m)\u001b[49m\n\u001b[1;32m    175\u001b[0m \u001b[38;5;28;01mexcept\u001b[39;00m \u001b[38;5;167;01mTypeError\u001b[39;00m \u001b[38;5;28;01mas\u001b[39;00m err:\n\u001b[1;32m    176\u001b[0m   \u001b[38;5;66;03m# Raise ValueError here for backward compatibility.\u001b[39;00m\n",
      "File \u001b[0;32m~/anaconda3/envs/flax/lib/python3.10/site-packages/jax/_src/lax/lax.py:128\u001b[0m, in \u001b[0;36m_try_broadcast_shapes\u001b[0;34m(name, *shapes)\u001b[0m\n\u001b[1;32m    127\u001b[0m     \u001b[38;5;28;01melse\u001b[39;00m:\n\u001b[0;32m--> 128\u001b[0m       \u001b[38;5;28;01mraise\u001b[39;00m \u001b[38;5;167;01mTypeError\u001b[39;00m(\u001b[38;5;124mf\u001b[39m\u001b[38;5;124m'\u001b[39m\u001b[38;5;132;01m{\u001b[39;00mname\u001b[38;5;132;01m}\u001b[39;00m\u001b[38;5;124m got incompatible shapes for broadcasting: \u001b[39m\u001b[38;5;124m'\u001b[39m\n\u001b[1;32m    129\u001b[0m                       \u001b[38;5;124mf\u001b[39m\u001b[38;5;124m'\u001b[39m\u001b[38;5;132;01m{\u001b[39;00m\u001b[38;5;124m\"\u001b[39m\u001b[38;5;124m, \u001b[39m\u001b[38;5;124m\"\u001b[39m\u001b[38;5;241m.\u001b[39mjoin(\u001b[38;5;28mmap\u001b[39m(\u001b[38;5;28mstr\u001b[39m,\u001b[38;5;250m \u001b[39m\u001b[38;5;28mmap\u001b[39m(\u001b[38;5;28mtuple\u001b[39m,\u001b[38;5;250m \u001b[39mshapes)))\u001b[38;5;132;01m}\u001b[39;00m\u001b[38;5;124m.\u001b[39m\u001b[38;5;124m'\u001b[39m)\n\u001b[1;32m    130\u001b[0m \u001b[38;5;28;01mreturn\u001b[39;00m \u001b[38;5;28mtuple\u001b[39m(result_shape)\n",
      "\u001b[0;31mTypeError\u001b[0m: broadcast_shapes got incompatible shapes for broadcasting: (96, 96, 12), (1, 1, 3).",
      "\nThe above exception was the direct cause of the following exception:\n",
      "\u001b[0;31mValueError\u001b[0m                                Traceback (most recent call last)",
      "    \u001b[0;31m[... skipping hidden 1 frame]\u001b[0m\n",
      "File \u001b[0;32m~/anaconda3/envs/flax/lib/python3.10/site-packages/jax/_src/util.py:302\u001b[0m, in \u001b[0;36mcache.<locals>.wrap.<locals>.wrapper\u001b[0;34m(*args, **kwargs)\u001b[0m\n\u001b[1;32m    301\u001b[0m   \u001b[38;5;28;01mreturn\u001b[39;00m f(\u001b[38;5;241m*\u001b[39margs, \u001b[38;5;241m*\u001b[39m\u001b[38;5;241m*\u001b[39mkwargs)\n\u001b[0;32m--> 302\u001b[0m \u001b[38;5;28;01mreturn\u001b[39;00m \u001b[43mcached\u001b[49m\u001b[43m(\u001b[49m\u001b[43mconfig\u001b[49m\u001b[38;5;241;43m.\u001b[39;49m\u001b[43mtrace_context\u001b[49m\u001b[43m(\u001b[49m\u001b[43m)\u001b[49m\u001b[43m \u001b[49m\u001b[38;5;28;43;01mif\u001b[39;49;00m\u001b[43m \u001b[49m\u001b[43mtrace_context_in_key\u001b[49m\u001b[43m \u001b[49m\u001b[38;5;28;43;01melse\u001b[39;49;00m\u001b[43m \u001b[49m\u001b[43m_ignore\u001b[49m\u001b[43m(\u001b[49m\u001b[43m)\u001b[49m\u001b[43m,\u001b[49m\n\u001b[1;32m    303\u001b[0m \u001b[43m              \u001b[49m\u001b[38;5;241;43m*\u001b[39;49m\u001b[43margs\u001b[49m\u001b[43m,\u001b[49m\u001b[43m \u001b[49m\u001b[38;5;241;43m*\u001b[39;49m\u001b[38;5;241;43m*\u001b[39;49m\u001b[43mkwargs\u001b[49m\u001b[43m)\u001b[49m\n",
      "File \u001b[0;32m~/anaconda3/envs/flax/lib/python3.10/site-packages/jax/_src/util.py:296\u001b[0m, in \u001b[0;36mcache.<locals>.wrap.<locals>.cached\u001b[0;34m(_, *args, **kwargs)\u001b[0m\n\u001b[1;32m    294\u001b[0m \u001b[38;5;129m@functools\u001b[39m\u001b[38;5;241m.\u001b[39mlru_cache(max_size)\n\u001b[1;32m    295\u001b[0m \u001b[38;5;28;01mdef\u001b[39;00m \u001b[38;5;21mcached\u001b[39m(_, \u001b[38;5;241m*\u001b[39margs, \u001b[38;5;241m*\u001b[39m\u001b[38;5;241m*\u001b[39mkwargs):\n\u001b[0;32m--> 296\u001b[0m   \u001b[38;5;28;01mreturn\u001b[39;00m \u001b[43mf\u001b[49m\u001b[43m(\u001b[49m\u001b[38;5;241;43m*\u001b[39;49m\u001b[43margs\u001b[49m\u001b[43m,\u001b[49m\u001b[43m \u001b[49m\u001b[38;5;241;43m*\u001b[39;49m\u001b[38;5;241;43m*\u001b[39;49m\u001b[43mkwargs\u001b[49m\u001b[43m)\u001b[49m\n",
      "File \u001b[0;32m~/anaconda3/envs/flax/lib/python3.10/site-packages/jax/_src/lax/lax.py:158\u001b[0m, in \u001b[0;36m_broadcast_shapes_cached\u001b[0;34m(*shapes)\u001b[0m\n\u001b[1;32m    156\u001b[0m \u001b[38;5;129m@cache\u001b[39m()\n\u001b[1;32m    157\u001b[0m \u001b[38;5;28;01mdef\u001b[39;00m \u001b[38;5;21m_broadcast_shapes_cached\u001b[39m(\u001b[38;5;241m*\u001b[39mshapes: \u001b[38;5;28mtuple\u001b[39m[\u001b[38;5;28mint\u001b[39m, \u001b[38;5;241m.\u001b[39m\u001b[38;5;241m.\u001b[39m\u001b[38;5;241m.\u001b[39m]) \u001b[38;5;241m-\u001b[39m\u001b[38;5;241m>\u001b[39m \u001b[38;5;28mtuple\u001b[39m[\u001b[38;5;28mint\u001b[39m, \u001b[38;5;241m.\u001b[39m\u001b[38;5;241m.\u001b[39m\u001b[38;5;241m.\u001b[39m]:\n\u001b[0;32m--> 158\u001b[0m   \u001b[38;5;28;01mreturn\u001b[39;00m \u001b[43m_broadcast_shapes_uncached\u001b[49m\u001b[43m(\u001b[49m\u001b[38;5;241;43m*\u001b[39;49m\u001b[43mshapes\u001b[49m\u001b[43m)\u001b[49m\n",
      "File \u001b[0;32m~/anaconda3/envs/flax/lib/python3.10/site-packages/jax/_src/lax/lax.py:177\u001b[0m, in \u001b[0;36m_broadcast_shapes_uncached\u001b[0;34m(*shapes)\u001b[0m\n\u001b[1;32m    175\u001b[0m \u001b[38;5;28;01mexcept\u001b[39;00m \u001b[38;5;167;01mTypeError\u001b[39;00m \u001b[38;5;28;01mas\u001b[39;00m err:\n\u001b[1;32m    176\u001b[0m   \u001b[38;5;66;03m# Raise ValueError here for backward compatibility.\u001b[39;00m\n\u001b[0;32m--> 177\u001b[0m   \u001b[38;5;28;01mraise\u001b[39;00m \u001b[38;5;167;01mValueError\u001b[39;00m(\u001b[38;5;124mf\u001b[39m\u001b[38;5;124m\"\u001b[39m\u001b[38;5;124mIncompatible shapes for broadcasting: shapes=\u001b[39m\u001b[38;5;132;01m{\u001b[39;00m\u001b[38;5;28mlist\u001b[39m(shapes)\u001b[38;5;132;01m}\u001b[39;00m\u001b[38;5;124m\"\u001b[39m) \u001b[38;5;28;01mfrom\u001b[39;00m \u001b[38;5;21;01merr\u001b[39;00m\n",
      "\u001b[0;31mValueError\u001b[0m: Incompatible shapes for broadcasting: shapes=[(96, 96, 12), (3,)]",
      "\nDuring handling of the above exception, another exception occurred:\n",
      "\u001b[0;31mTypeError\u001b[0m                                 Traceback (most recent call last)",
      "    \u001b[0;31m[... skipping hidden 1 frame]\u001b[0m\n",
      "File \u001b[0;32m~/anaconda3/envs/flax/lib/python3.10/site-packages/jax/_src/lax/lax.py:128\u001b[0m, in \u001b[0;36m_try_broadcast_shapes\u001b[0;34m(name, *shapes)\u001b[0m\n\u001b[1;32m    127\u001b[0m     \u001b[38;5;28;01melse\u001b[39;00m:\n\u001b[0;32m--> 128\u001b[0m       \u001b[38;5;28;01mraise\u001b[39;00m \u001b[38;5;167;01mTypeError\u001b[39;00m(\u001b[38;5;124mf\u001b[39m\u001b[38;5;124m'\u001b[39m\u001b[38;5;132;01m{\u001b[39;00mname\u001b[38;5;132;01m}\u001b[39;00m\u001b[38;5;124m got incompatible shapes for broadcasting: \u001b[39m\u001b[38;5;124m'\u001b[39m\n\u001b[1;32m    129\u001b[0m                       \u001b[38;5;124mf\u001b[39m\u001b[38;5;124m'\u001b[39m\u001b[38;5;132;01m{\u001b[39;00m\u001b[38;5;124m\"\u001b[39m\u001b[38;5;124m, \u001b[39m\u001b[38;5;124m\"\u001b[39m\u001b[38;5;241m.\u001b[39mjoin(\u001b[38;5;28mmap\u001b[39m(\u001b[38;5;28mstr\u001b[39m,\u001b[38;5;250m \u001b[39m\u001b[38;5;28mmap\u001b[39m(\u001b[38;5;28mtuple\u001b[39m,\u001b[38;5;250m \u001b[39mshapes)))\u001b[38;5;132;01m}\u001b[39;00m\u001b[38;5;124m.\u001b[39m\u001b[38;5;124m'\u001b[39m)\n\u001b[1;32m    130\u001b[0m \u001b[38;5;28;01mreturn\u001b[39;00m \u001b[38;5;28mtuple\u001b[39m(result_shape)\n",
      "\u001b[0;31mTypeError\u001b[0m: broadcast_shapes got incompatible shapes for broadcasting: (96, 96, 12), (1, 1, 3).",
      "\nThe above exception was the direct cause of the following exception:\n",
      "\u001b[0;31mValueError\u001b[0m                                Traceback (most recent call last)",
      "Cell \u001b[0;32mIn[9], line 17\u001b[0m\n\u001b[1;32m     15\u001b[0m gs00 \u001b[38;5;241m=\u001b[39m gridspec\u001b[38;5;241m.\u001b[39mGridSpecFromSubplotSpec(\u001b[38;5;241m2\u001b[39m, \u001b[38;5;241m2\u001b[39m, subplot_spec\u001b[38;5;241m=\u001b[39mgs0[\u001b[38;5;241m0\u001b[39m])\n\u001b[1;32m     16\u001b[0m ax1 \u001b[38;5;241m=\u001b[39m fig\u001b[38;5;241m.\u001b[39madd_subplot(gs00[:\u001b[38;5;241m2\u001b[39m, :\u001b[38;5;241m2\u001b[39m])\n\u001b[0;32m---> 17\u001b[0m ref_img \u001b[38;5;241m=\u001b[39m (\u001b[43mviz_batch\u001b[49m\u001b[43m[\u001b[49m\u001b[38;5;124;43m'\u001b[39;49m\u001b[38;5;124;43mreference\u001b[39;49m\u001b[38;5;124;43m'\u001b[39;49m\u001b[43m]\u001b[49m\u001b[43m[\u001b[49m\u001b[38;5;241;43m0\u001b[39;49m\u001b[43m]\u001b[49m\u001b[43m \u001b[49m\u001b[38;5;241;43m*\u001b[39;49m\u001b[43m \u001b[49m\u001b[43mjnp\u001b[49m\u001b[38;5;241;43m.\u001b[39;49m\u001b[43marray\u001b[49m\u001b[43m(\u001b[49m\u001b[43mSTDDEV_RGB\u001b[49m\u001b[43m)\u001b[49m \u001b[38;5;241m+\u001b[39m jnp\u001b[38;5;241m.\u001b[39marray(MEAN_RGB))\n\u001b[1;32m     18\u001b[0m ax1\u001b[38;5;241m.\u001b[39mimshow(ref_img)\n\u001b[1;32m     20\u001b[0m \u001b[38;5;66;03m# Plot queries\u001b[39;00m\n",
      "File \u001b[0;32m~/anaconda3/envs/flax/lib/python3.10/site-packages/jax/_src/numpy/array_methods.py:578\u001b[0m, in \u001b[0;36m_defer_to_unrecognized_arg.<locals>.deferring_binary_op\u001b[0;34m(self, other)\u001b[0m\n\u001b[1;32m    576\u001b[0m args \u001b[38;5;241m=\u001b[39m (other, \u001b[38;5;28mself\u001b[39m) \u001b[38;5;28;01mif\u001b[39;00m swap \u001b[38;5;28;01melse\u001b[39;00m (\u001b[38;5;28mself\u001b[39m, other)\n\u001b[1;32m    577\u001b[0m \u001b[38;5;28;01mif\u001b[39;00m \u001b[38;5;28misinstance\u001b[39m(other, _accepted_binop_types):\n\u001b[0;32m--> 578\u001b[0m   \u001b[38;5;28;01mreturn\u001b[39;00m \u001b[43mbinary_op\u001b[49m\u001b[43m(\u001b[49m\u001b[38;5;241;43m*\u001b[39;49m\u001b[43margs\u001b[49m\u001b[43m)\u001b[49m\n\u001b[1;32m    579\u001b[0m \u001b[38;5;66;03m# Note: don't use isinstance here, because we don't want to raise for\u001b[39;00m\n\u001b[1;32m    580\u001b[0m \u001b[38;5;66;03m# subclasses, e.g. NamedTuple objects that may override operators.\u001b[39;00m\n\u001b[1;32m    581\u001b[0m \u001b[38;5;28;01mif\u001b[39;00m \u001b[38;5;28mtype\u001b[39m(other) \u001b[38;5;129;01min\u001b[39;00m _rejected_binop_types:\n",
      "File \u001b[0;32m~/anaconda3/envs/flax/lib/python3.10/site-packages/jax/_src/numpy/ufunc_api.py:179\u001b[0m, in \u001b[0;36mufunc.__call__\u001b[0;34m(self, out, where, *args)\u001b[0m\n\u001b[1;32m    177\u001b[0m   \u001b[38;5;28;01mraise\u001b[39;00m \u001b[38;5;167;01mNotImplementedError\u001b[39;00m(\u001b[38;5;124mf\u001b[39m\u001b[38;5;124m\"\u001b[39m\u001b[38;5;124mwhere argument of \u001b[39m\u001b[38;5;132;01m{\u001b[39;00m\u001b[38;5;28mself\u001b[39m\u001b[38;5;132;01m}\u001b[39;00m\u001b[38;5;124m\"\u001b[39m)\n\u001b[1;32m    178\u001b[0m call \u001b[38;5;241m=\u001b[39m \u001b[38;5;28mself\u001b[39m\u001b[38;5;241m.\u001b[39m__static_props[\u001b[38;5;124m'\u001b[39m\u001b[38;5;124mcall\u001b[39m\u001b[38;5;124m'\u001b[39m] \u001b[38;5;129;01mor\u001b[39;00m \u001b[38;5;28mself\u001b[39m\u001b[38;5;241m.\u001b[39m_call_vectorized\n\u001b[0;32m--> 179\u001b[0m \u001b[38;5;28;01mreturn\u001b[39;00m \u001b[43mcall\u001b[49m\u001b[43m(\u001b[49m\u001b[38;5;241;43m*\u001b[39;49m\u001b[43margs\u001b[49m\u001b[43m)\u001b[49m\n",
      "    \u001b[0;31m[... skipping hidden 13 frame]\u001b[0m\n",
      "File \u001b[0;32m~/anaconda3/envs/flax/lib/python3.10/site-packages/jax/_src/numpy/ufuncs.py:1255\u001b[0m, in \u001b[0;36mmultiply\u001b[0;34m(x, y)\u001b[0m\n\u001b[1;32m   1228\u001b[0m \u001b[38;5;129m@binary_ufunc\u001b[39m(identity\u001b[38;5;241m=\u001b[39m\u001b[38;5;241m1\u001b[39m, reduce\u001b[38;5;241m=\u001b[39mreductions\u001b[38;5;241m.\u001b[39mprod, accumulate\u001b[38;5;241m=\u001b[39mreductions\u001b[38;5;241m.\u001b[39mcumprod, at\u001b[38;5;241m=\u001b[39m_multiply_at)\n\u001b[1;32m   1229\u001b[0m \u001b[38;5;28;01mdef\u001b[39;00m \u001b[38;5;21mmultiply\u001b[39m(x: ArrayLike, y: ArrayLike, \u001b[38;5;241m/\u001b[39m) \u001b[38;5;241m-\u001b[39m\u001b[38;5;241m>\u001b[39m Array:\n\u001b[1;32m   1230\u001b[0m \u001b[38;5;250m  \u001b[39m\u001b[38;5;124;03m\"\"\"Multiply two arrays element-wise.\u001b[39;00m\n\u001b[1;32m   1231\u001b[0m \n\u001b[1;32m   1232\u001b[0m \u001b[38;5;124;03m  JAX implementation of :obj:`numpy.multiply`. This is a universal function,\u001b[39;00m\n\u001b[0;32m   (...)\u001b[0m\n\u001b[1;32m   1253\u001b[0m \u001b[38;5;124;03m    Array([ 0, 10, 20, 30], dtype=int32)\u001b[39;00m\n\u001b[1;32m   1254\u001b[0m \u001b[38;5;124;03m  \"\"\"\u001b[39;00m\n\u001b[0;32m-> 1255\u001b[0m   x, y \u001b[38;5;241m=\u001b[39m \u001b[43mpromote_args\u001b[49m\u001b[43m(\u001b[49m\u001b[38;5;124;43m\"\u001b[39;49m\u001b[38;5;124;43mmultiply\u001b[39;49m\u001b[38;5;124;43m\"\u001b[39;49m\u001b[43m,\u001b[49m\u001b[43m \u001b[49m\u001b[43mx\u001b[49m\u001b[43m,\u001b[49m\u001b[43m \u001b[49m\u001b[43my\u001b[49m\u001b[43m)\u001b[49m\n\u001b[1;32m   1256\u001b[0m   \u001b[38;5;28;01mreturn\u001b[39;00m lax\u001b[38;5;241m.\u001b[39mmul(x, y) \u001b[38;5;28;01mif\u001b[39;00m x\u001b[38;5;241m.\u001b[39mdtype \u001b[38;5;241m!=\u001b[39m \u001b[38;5;28mbool\u001b[39m \u001b[38;5;28;01melse\u001b[39;00m lax\u001b[38;5;241m.\u001b[39mbitwise_and(x, y)\n",
      "File \u001b[0;32m~/anaconda3/envs/flax/lib/python3.10/site-packages/jax/_src/numpy/util.py:193\u001b[0m, in \u001b[0;36mpromote_args\u001b[0;34m(fun_name, *args)\u001b[0m\n\u001b[1;32m    191\u001b[0m _check_no_float0s(fun_name, \u001b[38;5;241m*\u001b[39margs)\n\u001b[1;32m    192\u001b[0m check_for_prngkeys(fun_name, \u001b[38;5;241m*\u001b[39margs)\n\u001b[0;32m--> 193\u001b[0m \u001b[38;5;28;01mreturn\u001b[39;00m \u001b[43mpromote_shapes\u001b[49m\u001b[43m(\u001b[49m\u001b[43mfun_name\u001b[49m\u001b[43m,\u001b[49m\u001b[43m \u001b[49m\u001b[38;5;241;43m*\u001b[39;49m\u001b[43mpromote_dtypes\u001b[49m\u001b[43m(\u001b[49m\u001b[38;5;241;43m*\u001b[39;49m\u001b[43margs\u001b[49m\u001b[43m)\u001b[49m\u001b[43m)\u001b[49m\n",
      "File \u001b[0;32m~/anaconda3/envs/flax/lib/python3.10/site-packages/jax/_src/numpy/util.py:58\u001b[0m, in \u001b[0;36mpromote_shapes\u001b[0;34m(fun_name, *args)\u001b[0m\n\u001b[1;32m     56\u001b[0m \u001b[38;5;28;01mif\u001b[39;00m config\u001b[38;5;241m.\u001b[39mnumpy_rank_promotion\u001b[38;5;241m.\u001b[39mvalue \u001b[38;5;241m!=\u001b[39m \u001b[38;5;124m\"\u001b[39m\u001b[38;5;124mallow\u001b[39m\u001b[38;5;124m\"\u001b[39m:\n\u001b[1;32m     57\u001b[0m   _rank_promotion_warning_or_error(fun_name, shapes)\n\u001b[0;32m---> 58\u001b[0m result_rank \u001b[38;5;241m=\u001b[39m \u001b[38;5;28mlen\u001b[39m(\u001b[43mlax\u001b[49m\u001b[38;5;241;43m.\u001b[39;49m\u001b[43mbroadcast_shapes\u001b[49m\u001b[43m(\u001b[49m\u001b[38;5;241;43m*\u001b[39;49m\u001b[43mshapes\u001b[49m\u001b[43m)\u001b[49m)\n\u001b[1;32m     59\u001b[0m \u001b[38;5;28;01mreturn\u001b[39;00m [lax\u001b[38;5;241m.\u001b[39mbroadcast_to_rank(arg, result_rank) \u001b[38;5;28;01mfor\u001b[39;00m arg \u001b[38;5;129;01min\u001b[39;00m args]\n",
      "    \u001b[0;31m[... skipping hidden 1 frame]\u001b[0m\n",
      "File \u001b[0;32m~/anaconda3/envs/flax/lib/python3.10/site-packages/jax/_src/lax/lax.py:177\u001b[0m, in \u001b[0;36m_broadcast_shapes_uncached\u001b[0;34m(*shapes)\u001b[0m\n\u001b[1;32m    174\u001b[0m   \u001b[38;5;28;01mreturn\u001b[39;00m _try_broadcast_shapes(\u001b[38;5;241m*\u001b[39mrank_promoted_shapes, name\u001b[38;5;241m=\u001b[39m\u001b[38;5;124m'\u001b[39m\u001b[38;5;124mbroadcast_shapes\u001b[39m\u001b[38;5;124m'\u001b[39m)\n\u001b[1;32m    175\u001b[0m \u001b[38;5;28;01mexcept\u001b[39;00m \u001b[38;5;167;01mTypeError\u001b[39;00m \u001b[38;5;28;01mas\u001b[39;00m err:\n\u001b[1;32m    176\u001b[0m   \u001b[38;5;66;03m# Raise ValueError here for backward compatibility.\u001b[39;00m\n\u001b[0;32m--> 177\u001b[0m   \u001b[38;5;28;01mraise\u001b[39;00m \u001b[38;5;167;01mValueError\u001b[39;00m(\u001b[38;5;124mf\u001b[39m\u001b[38;5;124m\"\u001b[39m\u001b[38;5;124mIncompatible shapes for broadcasting: shapes=\u001b[39m\u001b[38;5;132;01m{\u001b[39;00m\u001b[38;5;28mlist\u001b[39m(shapes)\u001b[38;5;132;01m}\u001b[39;00m\u001b[38;5;124m\"\u001b[39m) \u001b[38;5;28;01mfrom\u001b[39;00m \u001b[38;5;21;01merr\u001b[39;00m\n",
      "\u001b[0;31mValueError\u001b[0m: Incompatible shapes for broadcasting: shapes=[(96, 96, 12), (3,)]"
     ]
    },
    {
     "data": {
      "image/png": "[encoded data removed]",
      "text/plain": [
       "<Figure size 1700x900 with 1 Axes>"
      ]
     },
     "metadata": {},
     "output_type": "display_data"
    }
   ],
   "source": [
    "import matplotlib.pyplot as plt\n",
    "import matplotlib.patches as patches\n",
    "import matplotlib.gridspec as gridspec\n",
    "from configs.loca_imnet1k_base16 import MEAN_RGB, STDDEV_RGB\n",
    "\n",
    "viz_batch = next(dataset.train_iter)\n",
    "viz_batch = remove_batch_dim0(viz_batch)\n",
    "viz_batch = utils.prepare_input(viz_batch, config)\n",
    "\n",
    "fig = plt.figure(figsize=(17, 9))\n",
    "\n",
    "gs0 = gridspec.GridSpec(2, 6, figure=fig)\n",
    "\n",
    "# Plot reference\n",
    "gs00 = gridspec.GridSpecFromSubplotSpec(2, 2, subplot_spec=gs0[0])\n",
    "ax1 = fig.add_subplot(gs00[:2, :2])\n",
    "ref_img = (viz_batch['reference'][0] * jnp.array(STDDEV_RGB) + jnp.array(MEAN_RGB))\n",
    "ax1.imshow(ref_img)\n",
    "\n",
    "# Plot queries\n",
    "n_q_foc = config.dataset_configs.number_of_focal_queries\n",
    "queries = viz_batch['queries'].reshape(n_q_foc, config.batch_size, 96, 96, 3)\n",
    "gs01 = gridspec.GridSpecFromSubplotSpec(2, 4, subplot_spec=gs0[1:])\n",
    "for i, query in enumerate(queries[:4]):\n",
    "    ax = fig.add_subplot(gs01[0, i])\n",
    "    ax.imshow(query[0] * jnp.array(STDDEV_RGB) + jnp.array(MEAN_RGB))\n",
    "    ax.set_title(f'Query {i + 1} Crop')"
   ]
  },
  {
   "cell_type": "markdown",
   "id": "65f5e816-53dd-4cc4-afa0-c75c8110c017",
   "metadata": {},
   "source": [
    "## Load Model"
   ]
  },
  {
   "cell_type": "code",
   "execution_count": 7,
   "id": "initial_id",
   "metadata": {
    "ExecuteTime": {
     "end_time": "2025-02-20T16:19:21.470341Z",
     "start_time": "2025-02-20T16:19:21.468268Z"
    }
   },
   "outputs": [],
   "source": [
    "import flax\n",
    "from flax.training import checkpoints\n",
    "import optax\n",
    "from scenic.train_lib import lr_schedules\n",
    "import vit\n",
    "import copy\n",
    "\n",
    "model = vit.ViTLOCAModel(config, dataset.meta_data)\n",
    "\n",
    "rng, init_rng = jax.random.split(rng)\n",
    "(params, _, num_trainable_params, gflops) = train_utils.initialize_model(\n",
    "    model_def=model.flax_model,\n",
    "    input_spec=[\n",
    "        (dataset.meta_data['input_shape'], dataset.meta_data.get('input_dtype', jnp.float32))],\n",
    "    config=config, rngs=init_rng\n",
    ")\n",
    "\n",
    "# Only one model function but two sets of parameters.\n",
    "ema_params = copy.deepcopy(params)\n",
    "\n",
    "learning_rate_fn = lr_schedules.get_learning_rate_fn(config)\n",
    "momentum_parameter_scheduler = lr_schedules.compound_lr_scheduler(\n",
    "  config.momentum_rate)\n",
    "\n",
    "weight_decay_mask = jax.tree_util.tree_map(lambda x: x.ndim != 1, params)\n",
    "tx = optax.inject_hyperparams(optax.adamw)(\n",
    "  learning_rate=learning_rate_fn, weight_decay=config.weight_decay,\n",
    "  mask=weight_decay_mask)\n",
    "\n",
    "opt_state = jax.jit(tx.init, backend='cpu')(params)\n",
    "\n",
    "chrono = train_utils.Chrono()\n",
    "\n",
    "train_state = utils.TrainState(\n",
    "  global_step=0, opt_state=opt_state, tx=tx, params=params,\n",
    "  ema_params=ema_params, rng=rng, metadata={'chrono': chrono.save()})\n",
    "\n",
    "# checkpoint_path = \"/home/admin/john/scenic/loca_tiny/checkpoint_144001\"\n",
    "# train_state = checkpoints.restore_checkpoint(checkpoint_path, train_state)"
   ]
  },
  {
   "cell_type": "markdown",
   "id": "aedba09b-22c9-434b-a67c-e5f867b4842d",
   "metadata": {},
   "source": [
    "## Run Inference"
   ]
  },
  {
   "cell_type": "code",
   "execution_count": 29,
   "id": "5e7788c4-d1e7-4415-b0bc-f36b69a45097",
   "metadata": {},
   "outputs": [
    {
     "name": "stdout",
     "output_type": "stream",
     "text": [
      "batch[query0]: (4, 96, 96, 12)\n",
      "batch[query0_box]: (4, 5)\n",
      "batch[query0_mask]: (4, 14, 14, 1)\n",
      "batch[query1]: (4, 96, 96, 12)\n",
      "batch[query1_box]: (4, 5)\n",
      "batch[query1_mask]: (4, 6, 6, 1)\n",
      "batch[query2]: (4, 96, 96, 12)\n",
      "batch[query2_box]: (4, 5)\n",
      "batch[query2_mask]: (4, 6, 6, 1)\n",
      "batch[query3]: (4, 96, 96, 12)\n",
      "batch[query3_box]: (4, 5)\n",
      "batch[query3_mask]: (4, 6, 6, 1)\n",
      "batch[query4]: (4, 96, 96, 12)\n",
      "batch[query4_box]: (4, 5)\n",
      "batch[query4_mask]: (4, 6, 6, 1)\n",
      "batch[query5]: (4, 96, 96, 12)\n",
      "batch[query5_box]: (4, 5)\n",
      "batch[query5_mask]: (4, 6, 6, 1)\n",
      "batch[query6]: (4, 96, 96, 12)\n",
      "batch[query6_box]: (4, 5)\n",
      "batch[query6_mask]: (4, 6, 6, 1)\n",
      "batch[query7]: (4, 96, 96, 12)\n",
      "batch[query7_box]: (4, 5)\n",
      "batch[query7_mask]: (4, 6, 6, 1)\n",
      "batch[query8]: (4, 96, 96, 12)\n",
      "batch[query8_box]: (4, 5)\n",
      "batch[query8_mask]: (4, 6, 6, 1)\n",
      "batch[query9]: (4, 96, 96, 12)\n",
      "batch[query9_box]: (4, 5)\n",
      "batch[query9_mask]: (4, 6, 6, 1)\n",
      "batch[reference]: (4, 96, 96, 12)\n"
     ]
    }
   ],
   "source": [
    "batch = next(dataset.train_iter)\n",
    "\n",
    "batch = remove_batch_dim0(batch, debug=True)\n",
    "batch = utils.prepare_input(batch, config)"
   ]
  },
  {
   "cell_type": "code",
   "execution_count": 30,
   "id": "99fe5a52-ecf4-47ad-b0cd-b7f61966c012",
   "metadata": {},
   "outputs": [],
   "source": [
    "dropout_rng, droptok_rng = jax.random.split(rng)\n",
    "\n",
    "use_ema = True\n",
    "drop_moment = \"late\"\n",
    "\n",
    "_, r_feat_targets, r_patch_features, _  = model.flax_model.apply(\n",
    "    {'params': train_state.ema_params if use_ema else params},\n",
    "    batch['reference'],\n",
    "    seqlen=config.reference_seqlen,\n",
    "    seqlen_selection=config.reference_seqlen_selection,\n",
    "    drop_moment=drop_moment,\n",
    "    train=True,\n",
    "    rngs={'dropout': dropout_rng, 'droptok': droptok_rng}\n",
    ")"
   ]
  },
  {
   "cell_type": "code",
   "execution_count": 75,
   "id": "7843265e-85bd-469c-adfe-b56eaf3ed334",
   "metadata": {},
   "outputs": [],
   "source": [
    "use_pe = False\n",
    "\n",
    "q_rand_loc_pred, q_rand_feat_pred, q_rand_patches, q_rand_idx_kept = model.flax_model.apply(\n",
    "    {'params': params},\n",
    "    batch['query0'],\n",
    "    inputs_kv=r_patch_features,\n",
    "    seqlen=config.query_max_seqlen,\n",
    "    use_pe=use_pe,\n",
    "    drop_moment='early',\n",
    "    train=True,\n",
    "    rngs={'dropout': dropout_rng, 'droptok': droptok_rng})"
   ]
  },
  {
   "cell_type": "code",
   "execution_count": 56,
   "id": "220b8915-24a3-4c9b-8e4a-3702117e814d",
   "metadata": {},
   "outputs": [],
   "source": [
    "n_q_foc = config.dataset_configs.number_of_focal_queries\n",
    "\n",
    "q_foc_loc_pred, q_foc_feat_pred, _, _ = model.flax_model.apply(\n",
    "    {'params': params},\n",
    "    batch['queries'],\n",
    "    inputs_kv=jnp.tile(r_patch_features, (n_q_foc, 1, 1)),\n",
    "    use_pe=use_pe,\n",
    "    train=True,\n",
    "    rngs={'dropout': dropout_rng})"
   ]
  },
  {
   "cell_type": "markdown",
   "id": "6bd2edbd-4968-4ccf-beee-201ddf727425",
   "metadata": {},
   "source": [
    "## Analyse model output"
   ]
  },
  {
   "cell_type": "markdown",
   "id": "66f4b3cc-a77e-445a-bf73-820602d8db43",
   "metadata": {},
   "source": [
    "### Reference patch tokens"
   ]
  },
  {
   "cell_type": "code",
   "execution_count": 66,
   "id": "464350d3-5522-4b8a-9905-fe6ee669bd91",
   "metadata": {},
   "outputs": [
    {
     "name": "stdout",
     "output_type": "stream",
     "text": [
      "(4, 7, 192)\n"
     ]
    },
    {
     "data": {
      "text/plain": [
       "Array([[ 0.26807955, -0.570439  , -0.58473426, -0.8415107 ]], dtype=float32)"
      ]
     },
     "execution_count": 66,
     "metadata": {},
     "output_type": "execute_result"
    }
   ],
   "source": [
    "print(r_patch_features.shape)\n",
    "r_patch_features[0, ::10, :4]"
   ]
  },
  {
   "cell_type": "code",
   "execution_count": 67,
   "id": "a8599daa-747e-4484-8e4f-ad76db2138bf",
   "metadata": {},
   "outputs": [
    {
     "data": {
      "text/plain": [
       "Array(False, dtype=bool)"
      ]
     },
     "execution_count": 67,
     "metadata": {},
     "output_type": "execute_result"
    }
   ],
   "source": [
    "jnp.any(jnp.isnan(r_patch_features))"
   ]
  },
  {
   "cell_type": "markdown",
   "id": "cd0bbe93-4d41-4421-aa8c-9b50889a28c9",
   "metadata": {},
   "source": [
    "### Query-rand patch tokens"
   ]
  },
  {
   "cell_type": "code",
   "execution_count": 76,
   "id": "54342b04-3592-434e-a7ce-bbe7db4fa57e",
   "metadata": {},
   "outputs": [
    {
     "name": "stdout",
     "output_type": "stream",
     "text": [
      "(4, 70, 192)\n"
     ]
    },
    {
     "data": {
      "text/plain": [
       "Array([[[nan, nan, nan, nan],\n",
       "        [nan, nan, nan, nan],\n",
       "        [nan, nan, nan, nan],\n",
       "        [nan, nan, nan, nan],\n",
       "        [nan, nan, nan, nan],\n",
       "        [nan, nan, nan, nan],\n",
       "        [nan, nan, nan, nan]],\n",
       "\n",
       "       [[nan, nan, nan, nan],\n",
       "        [nan, nan, nan, nan],\n",
       "        [nan, nan, nan, nan],\n",
       "        [nan, nan, nan, nan],\n",
       "        [nan, nan, nan, nan],\n",
       "        [nan, nan, nan, nan],\n",
       "        [nan, nan, nan, nan]]], dtype=float32)"
      ]
     },
     "execution_count": 76,
     "metadata": {},
     "output_type": "execute_result"
    }
   ],
   "source": [
    "print(q_rand_patches.shape)\n",
    "q_rand_patches[:2, ::10, :4]"
   ]
  },
  {
   "cell_type": "code",
   "execution_count": 49,
   "id": "4bafad83-7e77-427e-9eef-8ff54cd3e91d",
   "metadata": {},
   "outputs": [
    {
     "data": {
      "text/plain": [
       "Array(False, dtype=bool)"
      ]
     },
     "execution_count": 49,
     "metadata": {},
     "output_type": "execute_result"
    }
   ],
   "source": [
    "jnp.any(jnp.isnan(q_foc_loc_pred))"
   ]
  },
  {
   "cell_type": "markdown",
   "id": "620b1be0-c97f-4cf2-86e9-e045a9da4dca",
   "metadata": {},
   "source": [
    "### `Q_rand` location targets"
   ]
  },
  {
   "cell_type": "code",
   "execution_count": 50,
   "id": "76bfb306-8166-4d71-b243-f1c2e58a3083",
   "metadata": {},
   "outputs": [
    {
     "name": "stdout",
     "output_type": "stream",
     "text": [
      "[[ 65  64  63  62  61  60  58  57  56  -1  -1  -1  -1  -1]\n",
      " [ 79  78  77  76  75  74  72  71  70  -1  -1  -1  -1  -1]\n",
      " [ 79  78  77  76  75  74  72  71  70  -1  -1  -1  -1  -1]\n",
      " [ 93  92  91  90  89  88  86  85  84  -1  -1  -1  -1  -1]\n",
      " [107 106 105 104 103 102 100  99  98  -1  -1  -1  -1  -1]\n",
      " [121 120 119 118 117 116 114 113 112  -1  -1  -1  -1  -1]\n",
      " [121 120 119 118 117 116 114 113 112  -1  -1  -1  -1  -1]\n",
      " [135 134 133 132 131 130 128 127 126  -1  -1  -1  -1  -1]\n",
      " [149 148 147 146 145 144 142 141 140  -1  -1  -1  -1  -1]\n",
      " [163 162 161 160 159 158 156 155 154  -1  -1  -1  -1  -1]\n",
      " [177 176 175 174 173 172 170 169 168  -1  -1  -1  -1  -1]\n",
      " [177 176 175 174 173 172 170 169 168  -1  -1  -1  -1  -1]\n",
      " [191 190 189 188 187 186 184 183 182  -1  -1  -1  -1  -1]\n",
      " [ -1  -1  -1  -1  -1  -1  -1  -1  -1  -1  -1  -1  -1  -1]]\n"
     ]
    }
   ],
   "source": [
    "q_rand_targets = batch[\"query0_target_position\"]\n",
    "print(q_rand_targets[0].squeeze(-1))"
   ]
  },
  {
   "cell_type": "code",
   "execution_count": 51,
   "id": "ac9ba5be-d054-439a-b67f-8082de8003ad",
   "metadata": {},
   "outputs": [
    {
     "data": {
      "text/plain": [
       "Array([ 90,  92, 183,  77, 190,  72,  70, 132, 189, 141,  79, 105, 149,\n",
       "       168, 155,  70, 116,  71, 126, 176, 128, 154,  76, 114, 162, 184,\n",
       "       182, 148, 177, 176,  75,  56, 100,  78, 120, 120, 170,  98],      dtype=int32)"
      ]
     },
     "execution_count": 51,
     "metadata": {},
     "output_type": "execute_result"
    }
   ],
   "source": [
    "q_rand_loc_targets = batch['query0_target_position'].reshape(config.batch_size, -1)\n",
    "q_rand_loc_targets = jnp.take(q_rand_loc_targets, q_rand_idx_kept, axis=1)\n",
    "q_rand_loc_targets[0][q_rand_loc_targets[0] != -1]"
   ]
  },
  {
   "cell_type": "markdown",
   "id": "4f0c7f39-cc67-4f6f-b2c5-db60be19cec2",
   "metadata": {},
   "source": [
    "### `q_rand` location predictions"
   ]
  },
  {
   "cell_type": "code",
   "execution_count": 54,
   "id": "a5d2eb19-11dc-45c3-89a7-b2bc504bdc48",
   "metadata": {},
   "outputs": [
    {
     "name": "stdout",
     "output_type": "stream",
     "text": [
      "q_rand_loc_pred (4, 70, 36)\n"
     ]
    },
    {
     "data": {
      "text/plain": [
       "Array([0, 0, 0, 0, 0, 0, 0, 0, 0, 0, 0, 0, 0, 0, 0, 0, 0, 0, 0, 0, 0, 0,\n",
       "       0, 0, 0, 0, 0, 0, 0, 0, 0, 0, 0, 0, 0, 0, 0, 0, 0, 0, 0, 0, 0, 0,\n",
       "       0, 0, 0, 0, 0, 0, 0, 0, 0, 0, 0, 0, 0, 0, 0, 0, 0, 0, 0, 0, 0, 0,\n",
       "       0, 0, 0, 0], dtype=int32)"
      ]
     },
     "execution_count": 54,
     "metadata": {},
     "output_type": "execute_result"
    }
   ],
   "source": [
    "print(\"q_rand_loc_pred\", q_rand_loc_pred.shape)\n",
    "\n",
    "q_rand_loc_pred[0].argmax(axis=1)"
   ]
  }
 ],
 "metadata": {
  "kernelspec": {
   "display_name": "Python 3 (ipykernel)",
   "language": "python",
   "name": "python3"
  },
  "language_info": {
   "codemirror_mode": {
    "name": "ipython",
    "version": 3
   },
   "file_extension": ".py",
   "mimetype": "text/x-python",
   "name": "python",
   "nbconvert_exporter": "python",
   "pygments_lexer": "ipython3",
   "version": "3.10.16"
  }
 },
 "nbformat": 4,
 "nbformat_minor": 5
}
