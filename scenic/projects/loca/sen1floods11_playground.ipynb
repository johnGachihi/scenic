{
 "cells": [
  {
   "cell_type": "code",
   "execution_count": 43,
   "id": "c4b42c6b-8885-46d9-8580-7ff00ad1ccfe",
   "metadata": {},
   "outputs": [],
   "source": [
    "from pathlib import Path"
   ]
  },
  {
   "cell_type": "code",
   "execution_count": 44,
   "id": "initial_id",
   "metadata": {
    "ExecuteTime": {
     "end_time": "2025-03-04T06:20:09.173242Z",
     "start_time": "2025-03-04T06:20:09.168613Z"
    }
   },
   "outputs": [],
   "source": [
    "train_split_csv = '/home/admin/john/data/sen1floods11/splits/flood_handlabeled/flood_train_data.csv'\n",
    "val_split_csv = '/home/admin/john/data/sen1floods11/splits/flood_handlabeled/flood_valid_data.csv'\n",
    "test_split_csv = '/home/admin/john/data/sen1floods11/splits/flood_handlabeled/flood_test_data.csv'\n",
    "\n",
    "data_root = Path('/home/admin/john/data/sen1floods11/data/flood_events/HandLabeled/S2Hand')\n",
    "label_root = Path('/home/admin/john/data/sen1floods11/data/flood_events/HandLabeled/LabelHand')"
   ]
  },
  {
   "cell_type": "code",
   "execution_count": 45,
   "id": "9652c4ff-459b-4bb1-9130-dc0d646f313a",
   "metadata": {},
   "outputs": [
    {
     "name": "stdout",
     "output_type": "stream",
     "text": [
      "['Ghana_5079_S1Hand.tif', 'Ghana_5079_LabelHand.tif']\n",
      "['Ghana_895194_S1Hand.tif', 'Ghana_895194_LabelHand.tif']\n"
     ]
    }
   ],
   "source": [
    "import csv\n",
    "import rasterio\n",
    "\n",
    "def read_img(img_fname):\n",
    "    with rasterio.open(img_fname) as f:\n",
    "        return f.read()\n",
    "\n",
    "def s1_to_s2_filename(fname):\n",
    "    \"\"\"\n",
    "    Eg. Ghana_5079_S1Hand.tif -> Ghana_5079_S2Hand.tif\n",
    "    \"\"\"\n",
    "    \n",
    "    split = fname.split('_')\n",
    "    return '_'.join(split[:-1] + [split[-1].replace('S1', 'S2')])\n",
    "\n",
    "c = 0\n",
    "with open(val_split_csv) as f:\n",
    "    for line in csv.reader(f):\n",
    "        print(line)\n",
    "        data_fname = data_root / s1_to_s2_filename(line[0])\n",
    "        sen2_img = read_img(data_fname)\n",
    "\n",
    "        label_fname = label_root / line[1]\n",
    "        label_img = read_img(label_fname)\n",
    "        \n",
    "\n",
    "        c += 1\n",
    "        if c == 2:\n",
    "            break"
   ]
  },
  {
   "cell_type": "code",
   "execution_count": 46,
   "id": "445b378d-927f-435c-8fe5-3962699dfceb",
   "metadata": {},
   "outputs": [
    {
     "data": {
      "text/plain": [
       "((13, 512, 512), dtype('int16'))"
      ]
     },
     "execution_count": 46,
     "metadata": {},
     "output_type": "execute_result"
    }
   ],
   "source": [
    "sen2_img.shape, sen2_img.dtype"
   ]
  },
  {
   "cell_type": "code",
   "execution_count": 47,
   "id": "c1fd1a12-61f0-48fb-9f6c-7b2f89a14aef",
   "metadata": {},
   "outputs": [
    {
     "data": {
      "text/plain": [
       "((1, 512, 512), dtype('int16'))"
      ]
     },
     "execution_count": 47,
     "metadata": {},
     "output_type": "execute_result"
    }
   ],
   "source": [
    "label_img.shape, label_img.dtype"
   ]
  },
  {
   "cell_type": "code",
   "execution_count": 48,
   "id": "45629d0e-6494-47c0-a4fe-7a8960105dd2",
   "metadata": {},
   "outputs": [
    {
     "data": {
      "text/plain": [
       "(array([-1,  0,  1], dtype=int16),\n",
       " (array([], dtype=int64), array([], dtype=int64), array([], dtype=int64)))"
      ]
     },
     "execution_count": 48,
     "metadata": {},
     "output_type": "execute_result"
    }
   ],
   "source": [
    "import numpy as np\n",
    "\n",
    "np.unique(label_img), np.where(sen2_img == -9999)"
   ]
  },
  {
   "cell_type": "code",
   "execution_count": 3,
   "id": "9e095495-afcf-4c00-afba-69dd662f4fc0",
   "metadata": {},
   "outputs": [],
   "source": [
    "from sen1floods11.sen1floods11_builder import Sen1Floods11\n",
    "\n",
    "Sen1Floods11().download_and_prepare()"
   ]
  }
 ],
 "metadata": {
  "kernelspec": {
   "display_name": "Python 3 (ipykernel)",
   "language": "python",
   "name": "python3"
  },
  "language_info": {
   "codemirror_mode": {
    "name": "ipython",
    "version": 3
   },
   "file_extension": ".py",
   "mimetype": "text/x-python",
   "name": "python",
   "nbconvert_exporter": "python",
   "pygments_lexer": "ipython3",
   "version": "3.10.16"
  }
 },
 "nbformat": 4,
 "nbformat_minor": 5
}
