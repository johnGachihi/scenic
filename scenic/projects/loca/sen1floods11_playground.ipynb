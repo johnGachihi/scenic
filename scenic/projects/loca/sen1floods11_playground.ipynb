{
 "cells": [
  {
   "cell_type": "code",
   "execution_count": 1,
   "id": "c4b42c6b-8885-46d9-8580-7ff00ad1ccfe",
   "metadata": {
    "ExecuteTime": {
     "end_time": "2025-04-10T13:34:46.692606Z",
     "start_time": "2025-04-10T13:34:46.688072Z"
    }
   },
   "outputs": [],
   "source": [
    "from pathlib import Path"
   ]
  },
  {
   "cell_type": "code",
   "execution_count": 2,
   "id": "initial_id",
   "metadata": {
    "ExecuteTime": {
     "end_time": "2025-03-04T06:20:09.173242Z",
     "start_time": "2025-03-04T06:20:09.168613Z"
    }
   },
   "outputs": [],
   "source": [
    "train_split_csv = '/home/admin/john/data/sen1floods11/splits/flood_handlabeled/flood_train_data.csv'\n",
    "val_split_csv = '/home/admin/john/data/sen1floods11/splits/flood_handlabeled/flood_valid_data.csv'\n",
    "test_split_csv = '/home/admin/john/data/sen1floods11/splits/flood_handlabeled/flood_test_data.csv'\n",
    "\n",
    "s2_root = Path('/home/admin/john/data/sen1floods11/data/flood_events/HandLabeled/S2Hand')\n",
    "s1_root = Path('/home/admin/john/data/sen1floods11/data/flood_events/HandLabeled/S1Hand')\n",
    "label_root = Path('/home/admin/john/data/sen1floods11/data/flood_events/HandLabeled/LabelHand')"
   ]
  },
  {
   "cell_type": "code",
   "execution_count": 3,
   "id": "9652c4ff-459b-4bb1-9130-dc0d646f313a",
   "metadata": {},
   "outputs": [
    {
     "name": "stdout",
     "output_type": "stream",
     "text": [
      "['Ghana_5079_S1Hand.tif', 'Ghana_5079_LabelHand.tif']\n",
      "['Ghana_895194_S1Hand.tif', 'Ghana_895194_LabelHand.tif']\n"
     ]
    }
   ],
   "source": [
    "import csv\n",
    "import rasterio\n",
    "\n",
    "def read_img(img_fname):\n",
    "    with rasterio.open(img_fname) as f:\n",
    "        return f.read()\n",
    "\n",
    "def s1_to_s2_filename(fname):\n",
    "    \"\"\"\n",
    "    Eg. Ghana_5079_S1Hand.tif -> Ghana_5079_S2Hand.tif\n",
    "    \"\"\"\n",
    "    \n",
    "    split = fname.split('_')\n",
    "    return '_'.join(split[:-1] + [split[-1].replace('S1', 'S2')])\n",
    "\n",
    "c = 0\n",
    "with open(val_split_csv) as f:\n",
    "    for line in csv.reader(f):\n",
    "        print(line)\n",
    "        s1_fname = s1_root / line[0]\n",
    "        data_fname = s2_root / s1_to_s2_filename(line[0])\n",
    "        sen2_img = read_img(data_fname)\n",
    "        sen1_img = read_img(s1_fname)\n",
    "\n",
    "        label_fname = label_root / line[1]\n",
    "        label_img = read_img(label_fname)\n",
    "        \n",
    "\n",
    "        c += 1\n",
    "        if c == 2:\n",
    "            break"
   ]
  },
  {
   "cell_type": "code",
   "execution_count": 4,
   "id": "445b378d-927f-435c-8fe5-3962699dfceb",
   "metadata": {},
   "outputs": [
    {
     "data": {
      "text/plain": [
       "((13, 512, 512), dtype('int16'), (2, 512, 512), dtype('float32'))"
      ]
     },
     "execution_count": 4,
     "metadata": {},
     "output_type": "execute_result"
    }
   ],
   "source": [
    "sen2_img.shape, sen2_img.dtype, sen1_img.shape, sen1_img.dtype"
   ]
  },
  {
   "cell_type": "code",
   "execution_count": 5,
   "id": "c1fd1a12-61f0-48fb-9f6c-7b2f89a14aef",
   "metadata": {},
   "outputs": [
    {
     "data": {
      "text/plain": [
       "((1, 512, 512), dtype('int16'))"
      ]
     },
     "execution_count": 5,
     "metadata": {},
     "output_type": "execute_result"
    }
   ],
   "source": [
    "label_img.shape, label_img.dtype"
   ]
  },
  {
   "cell_type": "code",
   "execution_count": 6,
   "id": "45629d0e-6494-47c0-a4fe-7a8960105dd2",
   "metadata": {},
   "outputs": [
    {
     "data": {
      "text/plain": [
       "(array([-1,  0,  1], dtype=int16),\n",
       " (array([], dtype=int64), array([], dtype=int64), array([], dtype=int64)))"
      ]
     },
     "execution_count": 6,
     "metadata": {},
     "output_type": "execute_result"
    }
   ],
   "source": [
    "import numpy as np\n",
    "\n",
    "np.unique(label_img), np.where(sen2_img == -9999)"
   ]
  },
  {
   "cell_type": "code",
   "execution_count": 5,
   "id": "9e095495-afcf-4c00-afba-69dd662f4fc0",
   "metadata": {
    "scrolled": true
   },
   "outputs": [
    {
     "name": "stderr",
     "output_type": "stream",
     "text": [
      "2025-04-10 15:39:32.544020: E tensorflow/compiler/xla/stream_executor/cuda/cuda_dnn.cc:9342] Unable to register cuDNN factory: Attempting to register factory for plugin cuDNN when one has already been registered\n",
      "2025-04-10 15:39:32.544073: E tensorflow/compiler/xla/stream_executor/cuda/cuda_fft.cc:609] Unable to register cuFFT factory: Attempting to register factory for plugin cuFFT when one has already been registered\n",
      "2025-04-10 15:39:32.544102: E tensorflow/compiler/xla/stream_executor/cuda/cuda_blas.cc:1518] Unable to register cuBLAS factory: Attempting to register factory for plugin cuBLAS when one has already been registered\n",
      "2025-04-10 15:39:32.552063: I tensorflow/core/platform/cpu_feature_guard.cc:182] This TensorFlow binary is optimized to use available CPU instructions in performance-critical operations.\n",
      "To enable the following instructions: AVX2 AVX512F FMA, in other operations, rebuild TensorFlow with the appropriate compiler flags.\n",
      "2025-04-10 15:39:34.044347: W tensorflow/tsl/platform/cloud/google_auth_provider.cc:184] All attempts to get a Google authentication bearer token failed, returning an empty token. Retrieving token from files failed with \"NOT_FOUND: Could not locate the credentials file.\". Retrieving token from GCE failed with \"FAILED_PRECONDITION: Error executing an HTTP request: libcurl code 6 meaning 'Couldn't resolve host name', error details: Could not resolve host: metadata.google.internal\".\n"
     ]
    },
    {
     "name": "stdout",
     "output_type": "stream",
     "text": [
      "\u001b[1mDownloading and preparing dataset Unknown size (download: Unknown size, generated: Unknown size, total: Unknown size) to /home/admin/tensorflow_datasets/sen1_floods11/0.0.3...\u001b[0m\n"
     ]
    },
    {
     "name": "stderr",
     "output_type": "stream",
     "text": [
      "/home/admin/anaconda3/envs/flax/lib/python3.10/site-packages/tqdm/auto.py:21: TqdmWarning: IProgress not found. Please update jupyter and ipywidgets. See https://ipywidgets.readthedocs.io/en/stable/user_install.html\n",
      "  from .autonotebook import tqdm as notebook_tqdm\n",
      "Generating splits...:   0%|          | 0/3 [00:00<?, ? splits/s]\n",
      "\u001b[Aerating train examples...: 0 examples [00:00, ? examples/s]\n",
      "\u001b[Aerating train examples...: 2 examples [00:01,  1.18 examples/s]\n",
      "\u001b[Aerating train examples...: 4 examples [00:03,  1.20 examples/s]\n",
      "\u001b[Aerating train examples...: 6 examples [00:04,  1.22 examples/s]\n",
      "\u001b[Aerating train examples...: 8 examples [00:06,  1.21 examples/s]\n",
      "\u001b[Aerating train examples...: 10 examples [00:08,  1.21 examples/s]\n",
      "\u001b[Aerating train examples...: 12 examples [00:09,  1.21 examples/s]\n",
      "\u001b[Aerating train examples...: 14 examples [00:11,  1.21 examples/s]\n",
      "\u001b[Aerating train examples...: 16 examples [00:13,  1.22 examples/s]\n",
      "\u001b[Aerating train examples...: 18 examples [00:14,  1.21 examples/s]\n",
      "\u001b[Aerating train examples...: 20 examples [00:16,  1.21 examples/s]\n",
      "\u001b[Aerating train examples...: 22 examples [00:18,  1.22 examples/s]\n",
      "\u001b[Aerating train examples...: 24 examples [00:19,  1.22 examples/s]\n",
      "\u001b[Aerating train examples...: 26 examples [00:21,  1.22 examples/s]\n",
      "\u001b[Aerating train examples...: 28 examples [00:23,  1.22 examples/s]\n",
      "\u001b[Aerating train examples...: 30 examples [00:24,  1.22 examples/s]\n",
      "\u001b[Aerating train examples...: 32 examples [00:26,  1.23 examples/s]\n",
      "\u001b[Aerating train examples...: 34 examples [00:27,  1.23 examples/s]\n",
      "\u001b[Aerating train examples...: 36 examples [00:29,  1.22 examples/s]\n",
      "\u001b[Aerating train examples...: 38 examples [00:31,  1.22 examples/s]\n",
      "\u001b[Aerating train examples...: 40 examples [00:32,  1.22 examples/s]\n",
      "\u001b[Aerating train examples...: 42 examples [00:34,  1.23 examples/s]\n",
      "\u001b[Aerating train examples...: 44 examples [00:36,  1.22 examples/s]\n",
      "\u001b[Aerating train examples...: 46 examples [00:37,  1.22 examples/s]\n",
      "\u001b[Aerating train examples...: 48 examples [00:39,  1.22 examples/s]\n",
      "\u001b[Aerating train examples...: 50 examples [00:41,  1.22 examples/s]\n",
      "\u001b[Aerating train examples...: 52 examples [00:42,  1.22 examples/s]\n",
      "\u001b[Aerating train examples...: 54 examples [00:44,  1.22 examples/s]\n",
      "\u001b[Aerating train examples...: 56 examples [00:45,  1.22 examples/s]\n",
      "\u001b[Aerating train examples...: 58 examples [00:47,  1.22 examples/s]\n",
      "\u001b[Aerating train examples...: 60 examples [00:49,  1.22 examples/s]\n",
      "\u001b[Aerating train examples...: 62 examples [00:50,  1.22 examples/s]\n",
      "\u001b[Aerating train examples...: 64 examples [00:52,  1.22 examples/s]\n",
      "\u001b[Aerating train examples...: 66 examples [00:54,  1.22 examples/s]\n",
      "\u001b[Aerating train examples...: 68 examples [00:55,  1.22 examples/s]\n",
      "\u001b[Aerating train examples...: 70 examples [00:57,  1.22 examples/s]\n",
      "\u001b[Aerating train examples...: 72 examples [00:59,  1.22 examples/s]\n",
      "\u001b[Aerating train examples...: 74 examples [01:00,  1.22 examples/s]\n",
      "\u001b[Aerating train examples...: 76 examples [01:02,  1.22 examples/s]\n",
      "\u001b[Aerating train examples...: 78 examples [01:04,  1.22 examples/s]\n",
      "\u001b[Aerating train examples...: 80 examples [01:05,  1.22 examples/s]\n",
      "\u001b[Aerating train examples...: 82 examples [01:07,  1.21 examples/s]\n",
      "\u001b[Aerating train examples...: 84 examples [01:09,  1.21 examples/s]\n",
      "\u001b[Aerating train examples...: 86 examples [01:10,  1.21 examples/s]\n",
      "\u001b[Aerating train examples...: 88 examples [01:12,  1.21 examples/s]\n",
      "\u001b[Aerating train examples...: 90 examples [01:13,  1.21 examples/s]\n",
      "\u001b[Aerating train examples...: 92 examples [01:15,  1.21 examples/s]\n",
      "\u001b[Aerating train examples...: 94 examples [01:17,  1.21 examples/s]\n",
      "\u001b[Aerating train examples...: 96 examples [01:18,  1.22 examples/s]\n",
      "\u001b[Aerating train examples...: 98 examples [01:20,  1.22 examples/s]\n",
      "\u001b[Aerating train examples...: 100 examples [01:22,  1.22 examples/s]\n",
      "\u001b[Aerating train examples...: 102 examples [01:23,  1.22 examples/s]\n",
      "\u001b[Aerating train examples...: 104 examples [01:25,  1.22 examples/s]\n",
      "\u001b[Aerating train examples...: 106 examples [01:27,  1.23 examples/s]\n",
      "\u001b[Aerating train examples...: 108 examples [01:28,  1.23 examples/s]\n",
      "\u001b[Aerating train examples...: 110 examples [01:30,  1.23 examples/s]\n",
      "\u001b[Aerating train examples...: 112 examples [01:31,  1.23 examples/s]\n",
      "\u001b[Aerating train examples...: 114 examples [01:34,  1.10 examples/s]\n",
      "\u001b[Aerating train examples...: 116 examples [01:35,  1.13 examples/s]\n",
      "\u001b[Aerating train examples...: 118 examples [01:37,  1.15 examples/s]\n",
      "\u001b[Aerating train examples...: 120 examples [01:39,  1.17 examples/s]\n",
      "\u001b[Aerating train examples...: 122 examples [01:40,  1.18 examples/s]\n",
      "\u001b[Aerating train examples...: 124 examples [01:42,  1.15 examples/s]\n",
      "\u001b[Aerating train examples...: 126 examples [01:44,  1.15 examples/s]\n",
      "\u001b[Aerating train examples...: 128 examples [01:46,  1.16 examples/s]\n",
      "\u001b[Aerating train examples...: 130 examples [01:47,  1.17 examples/s]\n",
      "\u001b[Aerating train examples...: 132 examples [01:49,  1.18 examples/s]\n",
      "\u001b[Aerating train examples...: 134 examples [01:51,  1.19 examples/s]\n",
      "\u001b[Aerating train examples...: 136 examples [01:52,  1.20 examples/s]\n",
      "\u001b[Aerating train examples...: 138 examples [01:54,  1.20 examples/s]\n",
      "\u001b[Aerating train examples...: 140 examples [01:56,  1.20 examples/s]\n",
      "\u001b[Aerating train examples...: 142 examples [01:57,  1.19 examples/s]\n",
      "\u001b[Aerating train examples...: 144 examples [01:59,  1.19 examples/s]\n",
      "\u001b[Aerating train examples...: 146 examples [02:01,  1.20 examples/s]\n",
      "\u001b[Aerating train examples...: 148 examples [02:02,  1.20 examples/s]\n",
      "\u001b[Aerating train examples...: 150 examples [02:04,  1.22 examples/s]\n",
      "\u001b[Aerating train examples...: 152 examples [02:05,  1.22 examples/s]\n",
      "\u001b[Aerating train examples...: 154 examples [02:07,  1.21 examples/s]\n",
      "\u001b[Aerating train examples...: 156 examples [02:09,  1.21 examples/s]\n",
      "\u001b[Aerating train examples...: 158 examples [02:10,  1.22 examples/s]\n",
      "\u001b[Aerating train examples...: 160 examples [02:12,  1.22 examples/s]\n",
      "\u001b[Aerating train examples...: 162 examples [02:14,  1.21 examples/s]\n",
      "\u001b[Aerating train examples...: 164 examples [02:15,  1.21 examples/s]\n",
      "\u001b[Aerating train examples...: 166 examples [02:17,  1.21 examples/s]\n",
      "\u001b[Aerating train examples...: 168 examples [02:19,  1.21 examples/s]\n",
      "\u001b[Aerating train examples...: 170 examples [02:20,  1.21 examples/s]\n",
      "\u001b[Aerating train examples...: 172 examples [02:22,  1.21 examples/s]\n",
      "\u001b[Aerating train examples...: 174 examples [02:24,  1.21 examples/s]\n",
      "\u001b[Aerating train examples...: 176 examples [02:25,  1.21 examples/s]\n",
      "\u001b[Aerating train examples...: 178 examples [02:27,  1.21 examples/s]\n",
      "\u001b[Aerating train examples...: 180 examples [02:29,  1.20 examples/s]\n",
      "\u001b[Aerating train examples...: 182 examples [02:30,  1.20 examples/s]\n",
      "\u001b[Aerating train examples...: 184 examples [02:32,  1.21 examples/s]\n",
      "\u001b[Aerating train examples...: 186 examples [02:34,  1.21 examples/s]\n",
      "\u001b[Aerating train examples...: 188 examples [02:35,  1.21 examples/s]\n",
      "\u001b[Aerating train examples...: 190 examples [02:37,  1.21 examples/s]\n",
      "\u001b[Aerating train examples...: 192 examples [02:39,  1.21 examples/s]\n",
      "\u001b[Aerating train examples...: 194 examples [02:40,  1.20 examples/s]\n",
      "\u001b[Aerating train examples...: 196 examples [02:42,  1.20 examples/s]\n",
      "\u001b[Aerating train examples...: 198 examples [02:44,  1.20 examples/s]\n",
      "\u001b[Aerating train examples...: 200 examples [02:45,  1.21 examples/s]\n",
      "\u001b[Aerating train examples...: 202 examples [02:47,  1.21 examples/s]\n",
      "\u001b[Aerating train examples...: 204 examples [02:49,  1.21 examples/s]\n",
      "\u001b[Aerating train examples...: 206 examples [02:50,  1.21 examples/s]\n",
      "\u001b[Aerating train examples...: 208 examples [02:52,  1.21 examples/s]\n",
      "\u001b[Aerating train examples...: 210 examples [02:53,  1.22 examples/s]\n",
      "\u001b[Aerating train examples...: 212 examples [02:55,  1.21 examples/s]\n",
      "\u001b[Aerating train examples...: 214 examples [02:57,  1.21 examples/s]\n",
      "\u001b[Aerating train examples...: 216 examples [02:58,  1.21 examples/s]\n",
      "\u001b[Aerating train examples...: 218 examples [03:00,  1.21 examples/s]\n",
      "\u001b[Aerating train examples...: 220 examples [03:02,  1.21 examples/s]\n",
      "\u001b[Aerating train examples...: 222 examples [03:03,  1.22 examples/s]\n",
      "\u001b[Aerating train examples...: 224 examples [03:05,  1.22 examples/s]\n",
      "\u001b[Aerating train examples...: 226 examples [03:07,  1.22 examples/s]\n",
      "\u001b[Aerating train examples...: 228 examples [03:08,  1.22 examples/s]\n",
      "\u001b[Aerating train examples...: 230 examples [03:10,  1.22 examples/s]\n",
      "\u001b[Aerating train examples...: 232 examples [03:11,  1.22 examples/s]\n",
      "\u001b[Aerating train examples...: 234 examples [03:13,  1.23 examples/s]\n",
      "\u001b[Aerating train examples...: 236 examples [03:15,  1.23 examples/s]\n",
      "\u001b[Aerating train examples...: 238 examples [03:16,  1.24 examples/s]\n",
      "\u001b[Aerating train examples...: 240 examples [03:18,  1.23 examples/s]\n",
      "\u001b[Aerating train examples...: 242 examples [03:20,  1.23 examples/s]\n",
      "\u001b[Aerating train examples...: 244 examples [03:21,  1.22 examples/s]\n",
      "\u001b[Aerating train examples...: 246 examples [03:23,  1.22 examples/s]\n",
      "\u001b[Aerating train examples...: 248 examples [03:25,  1.22 examples/s]\n",
      "\u001b[Aerating train examples...: 250 examples [03:26,  1.22 examples/s]\n",
      "\u001b[Aerating train examples...: 252 examples [03:28,  1.22 examples/s]\n",
      "\u001b[A                                                                 \n",
      "\u001b[Affling /home/admin/tensorflow_datasets/sen1_floods11/incomplete.A6MUPV_0.0.3/sen1_floods11-train.tfrecord*...:   0%|          | 0/252 [00:00<?, ? examples/s]\n",
      "\u001b[Affling /home/admin/tensorflow_datasets/sen1_floods11/incomplete.A6MUPV_0.0.3/sen1_floods11-train.tfrecord*...:  39%|███▉      | 99/252 [00:01<00:01, 98.39 examples/s]\n",
      "\u001b[Affling /home/admin/tensorflow_datasets/sen1_floods11/incomplete.A6MUPV_0.0.3/sen1_floods11-train.tfrecord*...:  79%|███████▊  | 198/252 [00:02<00:00, 95.74 examples/s]\n",
      "Generating splits...:  33%|███▎      | 1/3 [03:30<07:01, 210.95s/ splits]                                                                                                 \n",
      "\u001b[Aerating val examples...: 0 examples [00:00, ? examples/s]\n",
      "\u001b[Aerating val examples...: 2 examples [00:01,  1.23 examples/s]\n",
      "\u001b[Aerating val examples...: 4 examples [00:03,  1.23 examples/s]\n",
      "\u001b[Aerating val examples...: 6 examples [00:04,  1.23 examples/s]\n",
      "\u001b[Aerating val examples...: 8 examples [00:06,  1.22 examples/s]\n",
      "\u001b[Aerating val examples...: 10 examples [00:08,  1.21 examples/s]\n",
      "\u001b[Aerating val examples...: 12 examples [00:09,  1.21 examples/s]\n",
      "\u001b[Aerating val examples...: 14 examples [00:11,  1.22 examples/s]\n",
      "\u001b[Aerating val examples...: 16 examples [00:13,  1.23 examples/s]\n",
      "\u001b[Aerating val examples...: 18 examples [00:14,  1.23 examples/s]\n",
      "\u001b[Aerating val examples...: 20 examples [00:16,  1.22 examples/s]\n",
      "\u001b[Aerating val examples...: 22 examples [00:17,  1.22 examples/s]\n",
      "\u001b[Aerating val examples...: 24 examples [00:19,  1.22 examples/s]\n",
      "\u001b[Aerating val examples...: 26 examples [00:21,  1.21 examples/s]\n",
      "\u001b[Aerating val examples...: 28 examples [00:23,  1.17 examples/s]\n",
      "\u001b[Aerating val examples...: 30 examples [00:24,  1.19 examples/s]\n",
      "\u001b[Aerating val examples...: 32 examples [00:26,  1.19 examples/s]\n",
      "\u001b[Aerating val examples...: 34 examples [00:28,  1.20 examples/s]\n",
      "\u001b[Aerating val examples...: 36 examples [00:29,  1.21 examples/s]\n",
      "\u001b[Aerating val examples...: 38 examples [00:31,  1.21 examples/s]\n",
      "\u001b[Aerating val examples...: 40 examples [00:33,  1.21 examples/s]\n",
      "\u001b[Aerating val examples...: 42 examples [00:34,  1.22 examples/s]\n",
      "\u001b[Aerating val examples...: 44 examples [00:36,  1.22 examples/s]\n",
      "\u001b[Aerating val examples...: 46 examples [00:37,  1.23 examples/s]\n",
      "\u001b[Aerating val examples...: 48 examples [00:39,  1.24 examples/s]\n",
      "\u001b[Aerating val examples...: 50 examples [00:41,  1.24 examples/s]\n",
      "\u001b[Aerating val examples...: 52 examples [00:42,  1.24 examples/s]\n",
      "\u001b[Aerating val examples...: 54 examples [00:44,  1.24 examples/s]\n",
      "\u001b[Aerating val examples...: 56 examples [00:45,  1.23 examples/s]\n",
      "\u001b[Aerating val examples...: 58 examples [00:47,  1.22 examples/s]\n",
      "\u001b[Aerating val examples...: 60 examples [00:49,  1.22 examples/s]\n",
      "\u001b[Aerating val examples...: 62 examples [00:50,  1.22 examples/s]\n",
      "\u001b[Aerating val examples...: 64 examples [00:52,  1.22 examples/s]\n",
      "\u001b[Aerating val examples...: 66 examples [00:54,  1.22 examples/s]\n",
      "\u001b[Aerating val examples...: 68 examples [00:55,  1.22 examples/s]\n",
      "\u001b[Aerating val examples...: 70 examples [00:57,  1.22 examples/s]\n",
      "\u001b[Aerating val examples...: 72 examples [00:59,  1.22 examples/s]\n",
      "\u001b[Aerating val examples...: 74 examples [01:00,  1.22 examples/s]\n",
      "\u001b[Aerating val examples...: 76 examples [01:02,  1.22 examples/s]\n",
      "\u001b[Aerating val examples...: 78 examples [01:03,  1.22 examples/s]\n",
      "\u001b[Aerating val examples...: 80 examples [01:05,  1.22 examples/s]\n",
      "\u001b[Aerating val examples...: 82 examples [01:07,  1.22 examples/s]\n",
      "\u001b[Aerating val examples...: 84 examples [01:08,  1.22 examples/s]\n",
      "\u001b[Aerating val examples...: 86 examples [01:10,  1.22 examples/s]\n",
      "\u001b[Aerating val examples...: 88 examples [01:12,  1.22 examples/s]\n",
      "\u001b[A                                                              \n",
      "\u001b[Affling /home/admin/tensorflow_datasets/sen1_floods11/incomplete.A6MUPV_0.0.3/sen1_floods11-val.tfrecord*...:   0%|          | 0/89 [00:00<?, ? examples/s]\n",
      "Generating splits...:  67%|██████▋   | 2/3 [04:44<02:10, 130.13s/ splits]                                                                                    \n",
      "\u001b[Aerating test examples...: 0 examples [00:00, ? examples/s]\n",
      "\u001b[Aerating test examples...: 2 examples [00:01,  1.28 examples/s]\n",
      "\u001b[Aerating test examples...: 4 examples [00:03,  1.28 examples/s]\n",
      "\u001b[Aerating test examples...: 6 examples [00:04,  1.28 examples/s]\n",
      "\u001b[Aerating test examples...: 8 examples [00:06,  1.27 examples/s]\n",
      "\u001b[Aerating test examples...: 10 examples [00:07,  1.25 examples/s]\n",
      "\u001b[Aerating test examples...: 12 examples [00:09,  1.26 examples/s]\n",
      "\u001b[Aerating test examples...: 14 examples [00:11,  1.26 examples/s]\n",
      "\u001b[Aerating test examples...: 16 examples [00:12,  1.25 examples/s]\n",
      "\u001b[Aerating test examples...: 18 examples [00:14,  1.24 examples/s]\n",
      "\u001b[Aerating test examples...: 20 examples [00:15,  1.24 examples/s]\n",
      "\u001b[Aerating test examples...: 22 examples [00:17,  1.23 examples/s]\n",
      "\u001b[Aerating test examples...: 24 examples [00:19,  1.22 examples/s]\n",
      "\u001b[Aerating test examples...: 26 examples [00:20,  1.22 examples/s]\n",
      "\u001b[Aerating test examples...: 28 examples [00:22,  1.22 examples/s]\n",
      "\u001b[Aerating test examples...: 30 examples [00:24,  1.22 examples/s]\n",
      "\u001b[Aerating test examples...: 32 examples [00:25,  1.23 examples/s]\n",
      "\u001b[Aerating test examples...: 34 examples [00:27,  1.22 examples/s]\n",
      "\u001b[Aerating test examples...: 36 examples [00:29,  1.23 examples/s]\n",
      "\u001b[Aerating test examples...: 38 examples [00:30,  1.22 examples/s]\n",
      "\u001b[Aerating test examples...: 40 examples [00:32,  1.22 examples/s]\n",
      "\u001b[Aerating test examples...: 42 examples [00:34,  1.22 examples/s]\n",
      "\u001b[Aerating test examples...: 44 examples [00:35,  1.23 examples/s]\n",
      "\u001b[Aerating test examples...: 46 examples [00:37,  1.23 examples/s]\n",
      "\u001b[Aerating test examples...: 48 examples [00:38,  1.23 examples/s]\n",
      "\u001b[Aerating test examples...: 50 examples [00:40,  1.24 examples/s]\n",
      "\u001b[Aerating test examples...: 52 examples [00:41,  1.25 examples/s]\n",
      "\u001b[Aerating test examples...: 54 examples [00:43,  1.25 examples/s]\n",
      "\u001b[Aerating test examples...: 56 examples [00:45,  1.25 examples/s]\n",
      "\u001b[Aerating test examples...: 58 examples [00:46,  1.25 examples/s]\n",
      "\u001b[Aerating test examples...: 60 examples [00:48,  1.25 examples/s]\n",
      "\u001b[Aerating test examples...: 62 examples [00:50,  1.25 examples/s]\n",
      "\u001b[Aerating test examples...: 64 examples [00:51,  1.24 examples/s]\n",
      "\u001b[Aerating test examples...: 66 examples [00:53,  1.24 examples/s]\n",
      "\u001b[Aerating test examples...: 68 examples [00:54,  1.23 examples/s]\n",
      "\u001b[Aerating test examples...: 70 examples [00:56,  1.23 examples/s]\n",
      "\u001b[Aerating test examples...: 72 examples [00:58,  1.23 examples/s]\n",
      "\u001b[Aerating test examples...: 74 examples [00:59,  1.24 examples/s]\n",
      "\u001b[Aerating test examples...: 76 examples [01:01,  1.23 examples/s]\n",
      "\u001b[Aerating test examples...: 78 examples [01:03,  1.23 examples/s]\n",
      "\u001b[Aerating test examples...: 80 examples [01:04,  1.23 examples/s]\n",
      "\u001b[Aerating test examples...: 82 examples [01:06,  1.23 examples/s]\n",
      "\u001b[Aerating test examples...: 84 examples [01:07,  1.23 examples/s]\n",
      "\u001b[Aerating test examples...: 86 examples [01:09,  1.23 examples/s]\n",
      "\u001b[Aerating test examples...: 88 examples [01:11,  1.22 examples/s]\n",
      "\u001b[Aerating test examples...: 90 examples [01:12,  1.23 examples/s]\n",
      "\u001b[A                                                               \n",
      "\u001b[Affling /home/admin/tensorflow_datasets/sen1_floods11/incomplete.A6MUPV_0.0.3/sen1_floods11-test.tfrecord*...:   0%|          | 0/90 [00:00<?, ? examples/s]\n",
      "                                                                                                                                                              "
     ]
    },
    {
     "name": "stdout",
     "output_type": "stream",
     "text": [
      "\u001b[1mDataset sen1_floods11 downloaded and prepared to /home/admin/tensorflow_datasets/sen1_floods11/0.0.3. Subsequent calls will reuse this data.\u001b[0m\n"
     ]
    },
    {
     "name": "stderr",
     "output_type": "stream",
     "text": []
    }
   ],
   "source": [
    "from sen1floods11.sen1floods11_builder import Sen1Floods11\n",
    "\n",
    "Sen1Floods11().download_and_prepare()"
   ]
  }
 ],
 "metadata": {
  "kernelspec": {
   "display_name": "Python 3 (ipykernel)",
   "language": "python",
   "name": "python3"
  },
  "language_info": {
   "codemirror_mode": {
    "name": "ipython",
    "version": 3
   },
   "file_extension": ".py",
   "mimetype": "text/x-python",
   "name": "python",
   "nbconvert_exporter": "python",
   "pygments_lexer": "ipython3",
   "version": "3.10.16"
  }
 },
 "nbformat": 4,
 "nbformat_minor": 5
}
